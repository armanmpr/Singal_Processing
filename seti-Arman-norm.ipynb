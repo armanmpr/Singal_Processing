{
 "cells": [
  {
   "cell_type": "code",
   "execution_count": 1,
   "id": "stuffed-standard",
   "metadata": {
    "execution": {
     "iopub.execute_input": "2021-06-14T06:01:52.764031Z",
     "iopub.status.busy": "2021-06-14T06:01:52.762864Z",
     "iopub.status.idle": "2021-06-14T06:01:52.766093Z",
     "shell.execute_reply": "2021-06-14T06:01:52.766658Z",
     "shell.execute_reply.started": "2021-06-14T04:32:03.831962Z"
    },
    "papermill": {
     "duration": 0.018792,
     "end_time": "2021-06-14T06:01:52.766941",
     "exception": false,
     "start_time": "2021-06-14T06:01:52.748149",
     "status": "completed"
    },
    "tags": []
   },
   "outputs": [],
   "source": [
    "# !pip install -q efficientnet >> /dev/null"
   ]
  },
  {
   "cell_type": "code",
   "execution_count": 2,
   "id": "acting-lecture",
   "metadata": {
    "_cell_guid": "b1076dfc-b9ad-4769-8c92-a6c4dae69d19",
    "_uuid": "8f2839f25d086af736a60e9eeb907d3b93b6e0e5",
    "execution": {
     "iopub.execute_input": "2021-06-14T06:01:52.790753Z",
     "iopub.status.busy": "2021-06-14T06:01:52.790149Z",
     "iopub.status.idle": "2021-06-14T06:02:06.775340Z",
     "shell.execute_reply": "2021-06-14T06:02:06.774805Z",
     "shell.execute_reply.started": "2021-06-14T04:32:03.837756Z"
    },
    "papermill": {
     "duration": 13.998,
     "end_time": "2021-06-14T06:02:06.775507",
     "exception": false,
     "start_time": "2021-06-14T06:01:52.777507",
     "status": "completed"
    },
    "tags": []
   },
   "outputs": [
    {
     "name": "stdout",
     "output_type": "stream",
     "text": [
      "Running on TPU grpc://10.0.0.2:8470\n",
      "REPLICAS: 8\n"
     ]
    }
   ],
   "source": [
    "import numpy as np\n",
    "import pandas as pd\n",
    "import os\n",
    "import tensorflow as tf\n",
    "from kaggle_datasets import KaggleDatasets\n",
    "import matplotlib.pyplot as plt\n",
    "import tqdm\n",
    "import random\n",
    "import tensorflow.keras.backend as K\n",
    "from sklearn import preprocessing, model_selection\n",
    "import tensorflow_addons as tfa\n",
    "# import efficientnet.tfkeras as efn\n",
    "\n",
    "try:\n",
    "    tpu = tf.distribute.cluster_resolver.TPUClusterResolver()\n",
    "    print(f'Running on TPU {tpu.master()}')\n",
    "except ValueError:\n",
    "    tpu = None\n",
    "\n",
    "if tpu:\n",
    "    tf.config.experimental_connect_to_cluster(tpu)\n",
    "    tf.tpu.experimental.initialize_tpu_system(tpu)\n",
    "    strategy = tf.distribute.experimental.TPUStrategy(tpu)\n",
    "else:\n",
    "    strategy = tf.distribute.get_strategy()\n",
    "    \n",
    "\n",
    "REPLICAS = strategy.num_replicas_in_sync\n",
    "print(f'REPLICAS: {REPLICAS}')\n",
    "\n",
    "\n",
    "BATCH_SIZE = 16 * strategy.num_replicas_in_sync\n",
    "VAL_SIZE = 10000\n",
    "AUTO = tf.data.experimental.AUTOTUNE\n",
    "\n",
    "GCS_PATH_train_p1 = KaggleDatasets().get_gcs_path('seti-tfrec-train-p1-6ch')\n",
    "GCS_PATH_train_p2 = KaggleDatasets().get_gcs_path('seti-tfrec-train-p2-ch6')\n",
    "GCS_PATH_train_p3 = KaggleDatasets().get_gcs_path('seti-tfrec-train-p3-6ch')\n",
    "GCS_PATH_train_p4 = KaggleDatasets().get_gcs_path('seti-tfrec-train-p4-6ch')\n",
    "\n",
    "GCS_PATH_test_p1 = KaggleDatasets().get_gcs_path('seti-tfrec-test11-p1')\n",
    "GCS_PATH_test_p2 = KaggleDatasets().get_gcs_path('seti-tfrec-test11-p2')\n",
    "GCS_PATH_test_p3 = KaggleDatasets().get_gcs_path('seti-tfrec-test11-p3')\n",
    "GCS_PATH_test_p4 = KaggleDatasets().get_gcs_path('seti-tfrec-test11-p4')"
   ]
  },
  {
   "cell_type": "code",
   "execution_count": 3,
   "id": "specific-enemy",
   "metadata": {
    "execution": {
     "iopub.execute_input": "2021-06-14T06:02:06.802411Z",
     "iopub.status.busy": "2021-06-14T06:02:06.801743Z",
     "iopub.status.idle": "2021-06-14T06:02:06.804787Z",
     "shell.execute_reply": "2021-06-14T06:02:06.804210Z",
     "shell.execute_reply.started": "2021-06-14T04:32:17.396444Z"
    },
    "papermill": {
     "duration": 0.017936,
     "end_time": "2021-06-14T06:02:06.804928",
     "exception": false,
     "start_time": "2021-06-14T06:02:06.786992",
     "status": "completed"
    },
    "tags": []
   },
   "outputs": [],
   "source": [
    "NUM_TRAIN_SAMPLES = 50165"
   ]
  },
  {
   "cell_type": "code",
   "execution_count": 4,
   "id": "addressed-bangladesh",
   "metadata": {
    "execution": {
     "iopub.execute_input": "2021-06-14T06:02:06.839005Z",
     "iopub.status.busy": "2021-06-14T06:02:06.838284Z",
     "iopub.status.idle": "2021-06-14T06:02:06.841964Z",
     "shell.execute_reply": "2021-06-14T06:02:06.840975Z",
     "shell.execute_reply.started": "2021-06-14T04:32:17.402233Z"
    },
    "papermill": {
     "duration": 0.025666,
     "end_time": "2021-06-14T06:02:06.842134",
     "exception": false,
     "start_time": "2021-06-14T06:02:06.816468",
     "status": "completed"
    },
    "tags": []
   },
   "outputs": [],
   "source": [
    "def prepare_img(byte_img):\n",
    "    img1 = tf.io.decode_raw(byte_img[0], out_type=tf.float32)\n",
    "    img1 = tf.reshape(img1, (255, 255, 3))\n",
    "    img2 = tf.io.decode_raw(byte_img[1], out_type=tf.float32)\n",
    "    img2 = tf.reshape(img2, (255, 255, 3))\n",
    "    img = tf.concat([img1, img2], axis=-1)\n",
    "#     img = (img + 17.47) / (17.47 + 179.1)\n",
    "#     img = tf.cast(img, tf.float32)\n",
    "#     img = tf.image.resize(img, (255, 255))\n",
    "#     img = tf.image.resize(img, (331, 331))\n",
    "#     img = img / 100.\n",
    "    return img\n",
    "\n",
    "def read_tfrec(intance):\n",
    "    tfrec_format = {\n",
    "                    'image1' : tf.io.FixedLenFeature([], tf.string),\n",
    "                    'image2' : tf.io.FixedLenFeature([], tf.string),\n",
    "                    'image_id' : tf.io.FixedLenFeature([], tf.string),\n",
    "                    'target' : tf.io.FixedLenFeature([], tf.int64)\n",
    "                    }  \n",
    "    tfrec = tf.io.parse_single_example(intance, tfrec_format)\n",
    "    return [tfrec['image1'], tfrec['image2']], tfrec['target']\n",
    "# tf.transpose(tfrec['image'], [2, 0, 1])\n",
    "def read_tfrec_test(intance):\n",
    "    tfrec_format = {\n",
    "                    'image1' : tf.io.FixedLenFeature([], tf.string),\n",
    "                    'image2' : tf.io.FixedLenFeature([], tf.string),\n",
    "                    'image_id' : tf.io.FixedLenFeature([], tf.string),\n",
    "                    }  \n",
    "    tfrec = tf.io.parse_single_example(intance, tfrec_format)\n",
    "    return [tfrec['image1'], tfrec['image2']], tfrec['image_id']"
   ]
  },
  {
   "cell_type": "code",
   "execution_count": 5,
   "id": "velvet-impossible",
   "metadata": {
    "execution": {
     "iopub.execute_input": "2021-06-14T06:02:06.869172Z",
     "iopub.status.busy": "2021-06-14T06:02:06.868266Z",
     "iopub.status.idle": "2021-06-14T06:02:06.871217Z",
     "shell.execute_reply": "2021-06-14T06:02:06.871666Z",
     "shell.execute_reply.started": "2021-06-14T04:32:17.415169Z"
    },
    "papermill": {
     "duration": 0.018525,
     "end_time": "2021-06-14T06:02:06.871862",
     "exception": false,
     "start_time": "2021-06-14T06:02:06.853337",
     "status": "completed"
    },
    "tags": []
   },
   "outputs": [],
   "source": [
    "# imgs.values[0].shape"
   ]
  },
  {
   "cell_type": "code",
   "execution_count": 6,
   "id": "alien-banner",
   "metadata": {
    "execution": {
     "iopub.execute_input": "2021-06-14T06:02:06.898559Z",
     "iopub.status.busy": "2021-06-14T06:02:06.897614Z",
     "iopub.status.idle": "2021-06-14T06:02:06.901079Z",
     "shell.execute_reply": "2021-06-14T06:02:06.900451Z",
     "shell.execute_reply.started": "2021-06-14T04:32:17.427946Z"
    },
    "papermill": {
     "duration": 0.018252,
     "end_time": "2021-06-14T06:02:06.901216",
     "exception": false,
     "start_time": "2021-06-14T06:02:06.882964",
     "status": "completed"
    },
    "tags": []
   },
   "outputs": [],
   "source": [
    "# tf.keras.layers.experimental.preprocessing.Normalization(axis=[1, 2])(imgs.values[0])"
   ]
  },
  {
   "cell_type": "code",
   "execution_count": 7,
   "id": "tropical-buddy",
   "metadata": {
    "execution": {
     "iopub.execute_input": "2021-06-14T06:02:06.935838Z",
     "iopub.status.busy": "2021-06-14T06:02:06.935074Z",
     "iopub.status.idle": "2021-06-14T06:02:06.937856Z",
     "shell.execute_reply": "2021-06-14T06:02:06.937352Z",
     "shell.execute_reply.started": "2021-06-14T04:32:17.439681Z"
    },
    "papermill": {
     "duration": 0.025758,
     "end_time": "2021-06-14T06:02:06.937994",
     "exception": false,
     "start_time": "2021-06-14T06:02:06.912236",
     "status": "completed"
    },
    "tags": []
   },
   "outputs": [],
   "source": [
    "with strategy.scope():\n",
    "    def create_model():\n",
    "        base_model1 = tf.keras.applications.EfficientNetB1(include_top=False, weights='imagenet',input_shape=(255,255,3))\n",
    "#         base_model1 = tf.keras.applications.NASNetLarge(include_top=False, weights='imagenet',input_shape=(255,255,3))\n",
    "        for l in base_model1.layers:\n",
    "            l._name = l.name\n",
    "        base_model1._name = base_model1.name + '1'\n",
    "#         base_model1.trainable = False\n",
    "        inp = tf.keras.layers.Input(shape=(6, 255, 255))\n",
    "#         input1_ = tf.keras.layers.experimental.preprocessing.Normalization(axis=[2, 3])(inp)\n",
    "        inp1 = tf.keras.layers.Concatenate()([inp[..., tf.newaxis] for _ in range(3)])\n",
    "        model_ = tf.keras.models.Sequential([base_model1,\n",
    "                                             tf.keras.layers.GlobalAveragePooling2D(),\n",
    "                                             tf.keras.layers.Dense(64),\n",
    "                                             tf.keras.layers.BatchNormalization(),\n",
    "                                             tf.keras.layers.ReLU()])\n",
    "        x = tf.keras.layers.TimeDistributed(model_)(inp1)\n",
    "        x = tf.keras.layers.Bidirectional(tf.keras.layers.LSTM(512, return_sequences=True))(x)\n",
    "        x = tf.keras.layers.Bidirectional(tf.keras.layers.LSTM(512))(x)\n",
    "        #     x = tf.keras.layers.Dropout(.3)(x)\n",
    "        x = tf.keras.layers.Dense(32)(x)\n",
    "        x = tf.keras.layers.BatchNormalization()(x)\n",
    "        x = tf.keras.layers.ReLU()(x)\n",
    "        #     x = tf.keras.layers.Dropout(.3)(x)\n",
    "        x = tf.keras.layers.Dense(1,activation='sigmoid')(x)\n",
    "        model = tf.keras.Model(inputs=inp, outputs=x)\n",
    "        return model"
   ]
  },
  {
   "cell_type": "code",
   "execution_count": 8,
   "id": "infinite-valley",
   "metadata": {
    "execution": {
     "iopub.execute_input": "2021-06-14T06:02:06.989278Z",
     "iopub.status.busy": "2021-06-14T06:02:06.988425Z",
     "iopub.status.idle": "2021-06-14T09:29:00.601225Z",
     "shell.execute_reply": "2021-06-14T09:29:00.601876Z",
     "shell.execute_reply.started": "2021-06-14T04:32:17.454739Z"
    },
    "papermill": {
     "duration": 12413.652582,
     "end_time": "2021-06-14T09:29:00.602071",
     "exception": false,
     "start_time": "2021-06-14T06:02:06.949489",
     "status": "completed"
    },
    "tags": []
   },
   "outputs": [
    {
     "name": "stdout",
     "output_type": "stream",
     "text": [
      "Downloading data from https://storage.googleapis.com/keras-applications/efficientnetb1_notop.h5\n",
      "27025408/27018416 [==============================] - 0s 0us/step\n"
     ]
    },
    {
     "name": "stderr",
     "output_type": "stream",
     "text": [
      "  0%|          | 0/313 [00:00<?, ?it/s]"
     ]
    },
    {
     "name": "stdout",
     "output_type": "stream",
     "text": [
      "Epoch 0 Fold 0:\n"
     ]
    },
    {
     "name": "stderr",
     "output_type": "stream",
     "text": [
      " 94%|█████████▎| 293/313 [03:27<00:14,  1.41it/s]\n"
     ]
    },
    {
     "name": "stdout",
     "output_type": "stream",
     "text": [
      "loss_training:  0.027586866\n",
      "AUC_training:  0.66144615\n",
      "loss_validation:  0.025889073\n",
      "AUC_validation:  0.8231845\n",
      "model saved!\n"
     ]
    },
    {
     "name": "stderr",
     "output_type": "stream",
     "text": [
      "  0%|          | 0/313 [00:00<?, ?it/s]"
     ]
    },
    {
     "name": "stdout",
     "output_type": "stream",
     "text": [
      "Epoch 1 Fold 0:\n"
     ]
    },
    {
     "name": "stderr",
     "output_type": "stream",
     "text": [
      " 94%|█████████▎| 293/313 [01:29<00:06,  3.26it/s]\n"
     ]
    },
    {
     "name": "stdout",
     "output_type": "stream",
     "text": [
      "loss_training:  0.01274091\n",
      "AUC_training:  0.92313695\n"
     ]
    },
    {
     "name": "stderr",
     "output_type": "stream",
     "text": [
      "  0%|          | 0/313 [00:00<?, ?it/s]"
     ]
    },
    {
     "name": "stdout",
     "output_type": "stream",
     "text": [
      "loss_validation:  0.027406383\n",
      "AUC_validation:  0.79926276\n",
      "Epoch 2 Fold 0:\n"
     ]
    },
    {
     "name": "stderr",
     "output_type": "stream",
     "text": [
      " 94%|█████████▎| 293/313 [01:30<00:06,  3.25it/s]\n"
     ]
    },
    {
     "name": "stdout",
     "output_type": "stream",
     "text": [
      "loss_training:  0.010076226\n",
      "AUC_training:  0.94222367\n"
     ]
    },
    {
     "name": "stderr",
     "output_type": "stream",
     "text": [
      "  0%|          | 0/313 [00:00<?, ?it/s]"
     ]
    },
    {
     "name": "stdout",
     "output_type": "stream",
     "text": [
      "loss_validation:  0.028738055\n",
      "AUC_validation:  0.8166046\n",
      "Epoch 3 Fold 0:\n"
     ]
    },
    {
     "name": "stderr",
     "output_type": "stream",
     "text": [
      " 94%|█████████▎| 293/313 [01:30<00:06,  3.23it/s]\n"
     ]
    },
    {
     "name": "stdout",
     "output_type": "stream",
     "text": [
      "loss_training:  0.008479411\n",
      "AUC_training:  0.9515425\n",
      "loss_validation:  0.011886062\n",
      "AUC_validation:  0.9368441\n",
      "model saved!\n"
     ]
    },
    {
     "name": "stderr",
     "output_type": "stream",
     "text": [
      "  0%|          | 0/313 [00:00<?, ?it/s]"
     ]
    },
    {
     "name": "stdout",
     "output_type": "stream",
     "text": [
      "Epoch 4 Fold 0:\n"
     ]
    },
    {
     "name": "stderr",
     "output_type": "stream",
     "text": [
      " 94%|█████████▎| 293/313 [01:30<00:06,  3.25it/s]\n"
     ]
    },
    {
     "name": "stdout",
     "output_type": "stream",
     "text": [
      "loss_training:  0.007646297\n",
      "AUC_training:  0.9578847\n",
      "loss_validation:  0.011241813\n",
      "AUC_validation:  0.95546234\n",
      "model saved!\n"
     ]
    },
    {
     "name": "stderr",
     "output_type": "stream",
     "text": [
      "  0%|          | 0/313 [00:00<?, ?it/s]"
     ]
    },
    {
     "name": "stdout",
     "output_type": "stream",
     "text": [
      "Epoch 5 Fold 0:\n"
     ]
    },
    {
     "name": "stderr",
     "output_type": "stream",
     "text": [
      " 94%|█████████▎| 293/313 [01:30<00:06,  3.23it/s]\n"
     ]
    },
    {
     "name": "stdout",
     "output_type": "stream",
     "text": [
      "loss_training:  0.006668483\n",
      "AUC_training:  0.9675022\n"
     ]
    },
    {
     "name": "stderr",
     "output_type": "stream",
     "text": [
      "  0%|          | 0/313 [00:00<?, ?it/s]"
     ]
    },
    {
     "name": "stdout",
     "output_type": "stream",
     "text": [
      "loss_validation:  0.037198506\n",
      "AUC_validation:  0.7146406\n",
      "Epoch 6 Fold 0:\n"
     ]
    },
    {
     "name": "stderr",
     "output_type": "stream",
     "text": [
      " 94%|█████████▎| 293/313 [01:29<00:06,  3.26it/s]\n"
     ]
    },
    {
     "name": "stdout",
     "output_type": "stream",
     "text": [
      "loss_training:  0.0065820334\n",
      "AUC_training:  0.968454\n"
     ]
    },
    {
     "name": "stderr",
     "output_type": "stream",
     "text": [
      "  0%|          | 0/313 [00:00<?, ?it/s]"
     ]
    },
    {
     "name": "stdout",
     "output_type": "stream",
     "text": [
      "loss_validation:  0.025371615\n",
      "AUC_validation:  0.8408524\n",
      "Epoch 7 Fold 0:\n"
     ]
    },
    {
     "name": "stderr",
     "output_type": "stream",
     "text": [
      " 94%|█████████▎| 293/313 [01:30<00:06,  3.24it/s]\n"
     ]
    },
    {
     "name": "stdout",
     "output_type": "stream",
     "text": [
      "loss_training:  0.0065602344\n",
      "AUC_training:  0.9668795\n"
     ]
    },
    {
     "name": "stderr",
     "output_type": "stream",
     "text": [
      "  0%|          | 0/313 [00:00<?, ?it/s]"
     ]
    },
    {
     "name": "stdout",
     "output_type": "stream",
     "text": [
      "loss_validation:  0.027830811\n",
      "AUC_validation:  0.8034609\n",
      "Epoch 8 Fold 0:\n"
     ]
    },
    {
     "name": "stderr",
     "output_type": "stream",
     "text": [
      " 94%|█████████▎| 293/313 [01:29<00:06,  3.27it/s]\n"
     ]
    },
    {
     "name": "stdout",
     "output_type": "stream",
     "text": [
      "loss_training:  0.005823801\n",
      "AUC_training:  0.9732012\n",
      "loss_validation:  0.02290147\n",
      "AUC_validation:  0.8963235\n",
      "learning rate: 0.00010000000474974513\n"
     ]
    },
    {
     "name": "stderr",
     "output_type": "stream",
     "text": [
      "  0%|          | 0/313 [00:00<?, ?it/s]"
     ]
    },
    {
     "name": "stdout",
     "output_type": "stream",
     "text": [
      "Epoch 9 Fold 0:\n"
     ]
    },
    {
     "name": "stderr",
     "output_type": "stream",
     "text": [
      " 94%|█████████▎| 293/313 [01:30<00:06,  3.23it/s]\n"
     ]
    },
    {
     "name": "stdout",
     "output_type": "stream",
     "text": [
      "loss_training:  0.005500039\n",
      "AUC_training:  0.97368574\n",
      "loss_validation:  0.0063820817\n",
      "AUC_validation:  0.97621125\n",
      "model saved!\n"
     ]
    },
    {
     "name": "stderr",
     "output_type": "stream",
     "text": [
      "  0%|          | 0/313 [00:00<?, ?it/s]"
     ]
    },
    {
     "name": "stdout",
     "output_type": "stream",
     "text": [
      "Epoch 10 Fold 0:\n"
     ]
    },
    {
     "name": "stderr",
     "output_type": "stream",
     "text": [
      " 94%|█████████▎| 293/313 [01:30<00:06,  3.25it/s]\n"
     ]
    },
    {
     "name": "stdout",
     "output_type": "stream",
     "text": [
      "loss_training:  0.0049830265\n",
      "AUC_training:  0.97559154\n"
     ]
    },
    {
     "name": "stderr",
     "output_type": "stream",
     "text": [
      "  0%|          | 0/313 [00:00<?, ?it/s]"
     ]
    },
    {
     "name": "stdout",
     "output_type": "stream",
     "text": [
      "loss_validation:  0.0069617783\n",
      "AUC_validation:  0.9735518\n",
      "Epoch 11 Fold 0:\n"
     ]
    },
    {
     "name": "stderr",
     "output_type": "stream",
     "text": [
      " 94%|█████████▎| 293/313 [01:30<00:06,  3.22it/s]\n"
     ]
    },
    {
     "name": "stdout",
     "output_type": "stream",
     "text": [
      "loss_training:  0.004550133\n",
      "AUC_training:  0.9770343\n"
     ]
    },
    {
     "name": "stderr",
     "output_type": "stream",
     "text": [
      "  0%|          | 0/313 [00:00<?, ?it/s]"
     ]
    },
    {
     "name": "stdout",
     "output_type": "stream",
     "text": [
      "loss_validation:  0.006852717\n",
      "AUC_validation:  0.9738192\n",
      "Epoch 12 Fold 0:\n"
     ]
    },
    {
     "name": "stderr",
     "output_type": "stream",
     "text": [
      " 94%|█████████▎| 293/313 [01:30<00:06,  3.23it/s]\n"
     ]
    },
    {
     "name": "stdout",
     "output_type": "stream",
     "text": [
      "loss_training:  0.004289733\n",
      "AUC_training:  0.97901434\n",
      "loss_validation:  0.007980676\n",
      "AUC_validation:  0.9687493\n",
      "learning rate: 1.0000000656873453e-05\n"
     ]
    },
    {
     "name": "stderr",
     "output_type": "stream",
     "text": [
      "  0%|          | 0/313 [00:00<?, ?it/s]"
     ]
    },
    {
     "name": "stdout",
     "output_type": "stream",
     "text": [
      "Epoch 13 Fold 0:\n"
     ]
    },
    {
     "name": "stderr",
     "output_type": "stream",
     "text": [
      " 94%|█████████▎| 293/313 [01:30<00:06,  3.22it/s]\n"
     ]
    },
    {
     "name": "stdout",
     "output_type": "stream",
     "text": [
      "loss_training:  0.004910141\n",
      "AUC_training:  0.97628576\n",
      "loss_validation:  0.0062499032\n",
      "AUC_validation:  0.97750354\n",
      "model saved!\n"
     ]
    },
    {
     "name": "stderr",
     "output_type": "stream",
     "text": [
      "  0%|          | 0/313 [00:00<?, ?it/s]"
     ]
    },
    {
     "name": "stdout",
     "output_type": "stream",
     "text": [
      "Epoch 14 Fold 0:\n"
     ]
    },
    {
     "name": "stderr",
     "output_type": "stream",
     "text": [
      " 94%|█████████▎| 293/313 [01:33<00:06,  3.15it/s]\n"
     ]
    },
    {
     "name": "stdout",
     "output_type": "stream",
     "text": [
      "loss_training:  0.004866708\n",
      "AUC_training:  0.97682035\n",
      "loss_validation:  0.0061435252\n",
      "AUC_validation:  0.9780459\n",
      "model saved!\n"
     ]
    },
    {
     "name": "stderr",
     "output_type": "stream",
     "text": [
      "  0%|          | 0/313 [00:00<?, ?it/s]"
     ]
    },
    {
     "name": "stdout",
     "output_type": "stream",
     "text": [
      "Epoch 15 Fold 0:\n"
     ]
    },
    {
     "name": "stderr",
     "output_type": "stream",
     "text": [
      " 94%|█████████▎| 293/313 [01:34<00:06,  3.11it/s]\n"
     ]
    },
    {
     "name": "stdout",
     "output_type": "stream",
     "text": [
      "loss_training:  0.004728508\n",
      "AUC_training:  0.97764647\n"
     ]
    },
    {
     "name": "stderr",
     "output_type": "stream",
     "text": [
      "  0%|          | 0/313 [00:00<?, ?it/s]"
     ]
    },
    {
     "name": "stdout",
     "output_type": "stream",
     "text": [
      "loss_validation:  0.0062317625\n",
      "AUC_validation:  0.9780368\n",
      "Epoch 16 Fold 0:\n"
     ]
    },
    {
     "name": "stderr",
     "output_type": "stream",
     "text": [
      " 94%|█████████▎| 293/313 [01:29<00:06,  3.26it/s]\n"
     ]
    },
    {
     "name": "stdout",
     "output_type": "stream",
     "text": [
      "loss_training:  0.004708943\n",
      "AUC_training:  0.9769307\n",
      "loss_validation:  0.0063041416\n",
      "AUC_validation:  0.9773586\n",
      "learning rate: 1.0000001111620804e-06\n"
     ]
    },
    {
     "name": "stderr",
     "output_type": "stream",
     "text": [
      "  0%|          | 0/313 [00:00<?, ?it/s]"
     ]
    },
    {
     "name": "stdout",
     "output_type": "stream",
     "text": [
      "Epoch 17 Fold 0:\n"
     ]
    },
    {
     "name": "stderr",
     "output_type": "stream",
     "text": [
      " 94%|█████████▎| 293/313 [01:29<00:06,  3.26it/s]\n"
     ]
    },
    {
     "name": "stdout",
     "output_type": "stream",
     "text": [
      "loss_training:  0.004749463\n",
      "AUC_training:  0.9774134\n"
     ]
    },
    {
     "name": "stderr",
     "output_type": "stream",
     "text": [
      "  0%|          | 0/313 [00:00<?, ?it/s]"
     ]
    },
    {
     "name": "stdout",
     "output_type": "stream",
     "text": [
      "loss_validation:  0.006206548\n",
      "AUC_validation:  0.9775816\n",
      "Epoch 18 Fold 0:\n"
     ]
    },
    {
     "name": "stderr",
     "output_type": "stream",
     "text": [
      " 94%|█████████▎| 293/313 [01:34<00:06,  3.10it/s]\n"
     ]
    },
    {
     "name": "stdout",
     "output_type": "stream",
     "text": [
      "loss_training:  0.004707204\n",
      "AUC_training:  0.9764511\n"
     ]
    },
    {
     "name": "stderr",
     "output_type": "stream",
     "text": [
      "  0%|          | 0/313 [00:00<?, ?it/s]"
     ]
    },
    {
     "name": "stdout",
     "output_type": "stream",
     "text": [
      "loss_validation:  0.006184273\n",
      "AUC_validation:  0.9779029\n",
      "Epoch 19 Fold 0:\n"
     ]
    },
    {
     "name": "stderr",
     "output_type": "stream",
     "text": [
      " 94%|█████████▎| 293/313 [01:30<00:06,  3.25it/s]\n"
     ]
    },
    {
     "name": "stdout",
     "output_type": "stream",
     "text": [
      "loss_training:  0.00479794\n",
      "AUC_training:  0.9761139\n",
      "loss_validation:  0.00620298\n",
      "AUC_validation:  0.97848606\n",
      "model saved!\n"
     ]
    },
    {
     "name": "stderr",
     "output_type": "stream",
     "text": [
      "  0%|          | 0/313 [00:00<?, ?it/s]"
     ]
    },
    {
     "name": "stdout",
     "output_type": "stream",
     "text": [
      "Epoch 0 Fold 1:\n"
     ]
    },
    {
     "name": "stderr",
     "output_type": "stream",
     "text": [
      " 94%|█████████▎| 293/313 [03:02<00:12,  1.60it/s]\n"
     ]
    },
    {
     "name": "stdout",
     "output_type": "stream",
     "text": [
      "loss_training:  0.027753716\n",
      "AUC_training:  0.6339251\n",
      "loss_validation:  0.026876625\n",
      "AUC_validation:  0.7601234\n",
      "model saved!\n"
     ]
    },
    {
     "name": "stderr",
     "output_type": "stream",
     "text": [
      "  0%|          | 0/313 [00:00<?, ?it/s]"
     ]
    },
    {
     "name": "stdout",
     "output_type": "stream",
     "text": [
      "Epoch 1 Fold 1:\n"
     ]
    },
    {
     "name": "stderr",
     "output_type": "stream",
     "text": [
      " 94%|█████████▎| 293/313 [01:30<00:06,  3.25it/s]\n"
     ]
    },
    {
     "name": "stdout",
     "output_type": "stream",
     "text": [
      "loss_training:  0.012712033\n",
      "AUC_training:  0.9207133\n",
      "loss_validation:  0.010217885\n",
      "AUC_validation:  0.9378878\n",
      "model saved!\n"
     ]
    },
    {
     "name": "stderr",
     "output_type": "stream",
     "text": [
      "  0%|          | 0/313 [00:00<?, ?it/s]"
     ]
    },
    {
     "name": "stdout",
     "output_type": "stream",
     "text": [
      "Epoch 2 Fold 1:\n"
     ]
    },
    {
     "name": "stderr",
     "output_type": "stream",
     "text": [
      " 94%|█████████▎| 293/313 [01:29<00:06,  3.26it/s]\n"
     ]
    },
    {
     "name": "stdout",
     "output_type": "stream",
     "text": [
      "loss_training:  0.009853009\n",
      "AUC_training:  0.9446965\n"
     ]
    },
    {
     "name": "stderr",
     "output_type": "stream",
     "text": [
      "  0%|          | 0/313 [00:00<?, ?it/s]"
     ]
    },
    {
     "name": "stdout",
     "output_type": "stream",
     "text": [
      "loss_validation:  0.0129548805\n",
      "AUC_validation:  0.92645216\n",
      "Epoch 3 Fold 1:\n"
     ]
    },
    {
     "name": "stderr",
     "output_type": "stream",
     "text": [
      " 94%|█████████▎| 293/313 [01:35<00:06,  3.08it/s]\n"
     ]
    },
    {
     "name": "stdout",
     "output_type": "stream",
     "text": [
      "loss_training:  0.008367179\n",
      "AUC_training:  0.9544534\n",
      "loss_validation:  0.009718564\n",
      "AUC_validation:  0.94468486\n",
      "model saved!\n"
     ]
    },
    {
     "name": "stderr",
     "output_type": "stream",
     "text": [
      "  0%|          | 0/313 [00:00<?, ?it/s]"
     ]
    },
    {
     "name": "stdout",
     "output_type": "stream",
     "text": [
      "Epoch 4 Fold 1:\n"
     ]
    },
    {
     "name": "stderr",
     "output_type": "stream",
     "text": [
      " 94%|█████████▎| 293/313 [01:31<00:06,  3.21it/s]\n"
     ]
    },
    {
     "name": "stdout",
     "output_type": "stream",
     "text": [
      "loss_training:  0.0076636057\n",
      "AUC_training:  0.95724285\n"
     ]
    },
    {
     "name": "stderr",
     "output_type": "stream",
     "text": [
      "  0%|          | 0/313 [00:00<?, ?it/s]"
     ]
    },
    {
     "name": "stdout",
     "output_type": "stream",
     "text": [
      "loss_validation:  0.034686077\n",
      "AUC_validation:  0.7303549\n",
      "Epoch 5 Fold 1:\n"
     ]
    },
    {
     "name": "stderr",
     "output_type": "stream",
     "text": [
      " 94%|█████████▎| 293/313 [01:34<00:06,  3.09it/s]\n"
     ]
    },
    {
     "name": "stdout",
     "output_type": "stream",
     "text": [
      "loss_training:  0.0069916425\n",
      "AUC_training:  0.96562207\n",
      "loss_validation:  0.009692622\n",
      "AUC_validation:  0.95148855\n",
      "model saved!\n"
     ]
    },
    {
     "name": "stderr",
     "output_type": "stream",
     "text": [
      "  0%|          | 0/313 [00:00<?, ?it/s]"
     ]
    },
    {
     "name": "stdout",
     "output_type": "stream",
     "text": [
      "Epoch 6 Fold 1:\n"
     ]
    },
    {
     "name": "stderr",
     "output_type": "stream",
     "text": [
      " 94%|█████████▎| 293/313 [01:29<00:06,  3.26it/s]\n"
     ]
    },
    {
     "name": "stdout",
     "output_type": "stream",
     "text": [
      "loss_training:  0.006392229\n",
      "AUC_training:  0.96901107\n"
     ]
    },
    {
     "name": "stderr",
     "output_type": "stream",
     "text": [
      "  0%|          | 0/313 [00:00<?, ?it/s]"
     ]
    },
    {
     "name": "stdout",
     "output_type": "stream",
     "text": [
      "loss_validation:  0.012321952\n",
      "AUC_validation:  0.9392744\n",
      "Epoch 7 Fold 1:\n"
     ]
    },
    {
     "name": "stderr",
     "output_type": "stream",
     "text": [
      " 94%|█████████▎| 293/313 [01:30<00:06,  3.25it/s]\n"
     ]
    },
    {
     "name": "stdout",
     "output_type": "stream",
     "text": [
      "loss_training:  0.0066749463\n",
      "AUC_training:  0.9673774\n",
      "loss_validation:  0.007196033\n",
      "AUC_validation:  0.9713142\n",
      "model saved!\n"
     ]
    },
    {
     "name": "stderr",
     "output_type": "stream",
     "text": [
      "  0%|          | 0/313 [00:00<?, ?it/s]"
     ]
    },
    {
     "name": "stdout",
     "output_type": "stream",
     "text": [
      "Epoch 8 Fold 1:\n"
     ]
    },
    {
     "name": "stderr",
     "output_type": "stream",
     "text": [
      " 94%|█████████▎| 293/313 [01:30<00:06,  3.25it/s]\n"
     ]
    },
    {
     "name": "stdout",
     "output_type": "stream",
     "text": [
      "loss_training:  0.006155472\n",
      "AUC_training:  0.9716108\n",
      "loss_validation:  0.053676594\n",
      "AUC_validation:  0.6322127\n",
      "learning rate: 0.00010000000474974513\n"
     ]
    },
    {
     "name": "stderr",
     "output_type": "stream",
     "text": [
      "  0%|          | 0/313 [00:00<?, ?it/s]"
     ]
    },
    {
     "name": "stdout",
     "output_type": "stream",
     "text": [
      "Epoch 9 Fold 1:\n"
     ]
    },
    {
     "name": "stderr",
     "output_type": "stream",
     "text": [
      " 94%|█████████▎| 293/313 [01:31<00:06,  3.22it/s]\n"
     ]
    },
    {
     "name": "stdout",
     "output_type": "stream",
     "text": [
      "loss_training:  0.004872447\n",
      "AUC_training:  0.9761387\n",
      "loss_validation:  0.005316476\n",
      "AUC_validation:  0.9783892\n",
      "model saved!\n"
     ]
    },
    {
     "name": "stderr",
     "output_type": "stream",
     "text": [
      "  0%|          | 0/313 [00:00<?, ?it/s]"
     ]
    },
    {
     "name": "stdout",
     "output_type": "stream",
     "text": [
      "Epoch 10 Fold 1:\n"
     ]
    },
    {
     "name": "stderr",
     "output_type": "stream",
     "text": [
      " 94%|█████████▎| 293/313 [01:30<00:06,  3.25it/s]\n"
     ]
    },
    {
     "name": "stdout",
     "output_type": "stream",
     "text": [
      "loss_training:  0.0041525923\n",
      "AUC_training:  0.981492\n"
     ]
    },
    {
     "name": "stderr",
     "output_type": "stream",
     "text": [
      "  0%|          | 0/313 [00:00<?, ?it/s]"
     ]
    },
    {
     "name": "stdout",
     "output_type": "stream",
     "text": [
      "loss_validation:  0.005993556\n",
      "AUC_validation:  0.97502697\n",
      "Epoch 11 Fold 1:\n"
     ]
    },
    {
     "name": "stderr",
     "output_type": "stream",
     "text": [
      " 94%|█████████▎| 293/313 [01:31<00:06,  3.19it/s]\n"
     ]
    },
    {
     "name": "stdout",
     "output_type": "stream",
     "text": [
      "loss_training:  0.0037534302\n",
      "AUC_training:  0.98329866\n",
      "loss_validation:  0.0055479184\n",
      "AUC_validation:  0.9795909\n",
      "model saved!\n"
     ]
    },
    {
     "name": "stderr",
     "output_type": "stream",
     "text": [
      "  0%|          | 0/313 [00:00<?, ?it/s]"
     ]
    },
    {
     "name": "stdout",
     "output_type": "stream",
     "text": [
      "Epoch 12 Fold 1:\n"
     ]
    },
    {
     "name": "stderr",
     "output_type": "stream",
     "text": [
      " 94%|█████████▎| 293/313 [01:35<00:06,  3.08it/s]\n"
     ]
    },
    {
     "name": "stdout",
     "output_type": "stream",
     "text": [
      "loss_training:  0.0035839183\n",
      "AUC_training:  0.9831883\n",
      "loss_validation:  0.0053734747\n",
      "AUC_validation:  0.97945327\n",
      "learning rate: 1.0000000656873453e-05\n"
     ]
    },
    {
     "name": "stderr",
     "output_type": "stream",
     "text": [
      "  0%|          | 0/313 [00:00<?, ?it/s]"
     ]
    },
    {
     "name": "stdout",
     "output_type": "stream",
     "text": [
      "Epoch 13 Fold 1:\n"
     ]
    },
    {
     "name": "stderr",
     "output_type": "stream",
     "text": [
      " 94%|█████████▎| 293/313 [01:30<00:06,  3.24it/s]\n"
     ]
    },
    {
     "name": "stdout",
     "output_type": "stream",
     "text": [
      "loss_training:  0.003419579\n",
      "AUC_training:  0.98410165\n"
     ]
    },
    {
     "name": "stderr",
     "output_type": "stream",
     "text": [
      "  0%|          | 0/313 [00:00<?, ?it/s]"
     ]
    },
    {
     "name": "stdout",
     "output_type": "stream",
     "text": [
      "loss_validation:  0.0054998854\n",
      "AUC_validation:  0.97919685\n",
      "Epoch 14 Fold 1:\n"
     ]
    },
    {
     "name": "stderr",
     "output_type": "stream",
     "text": [
      " 94%|█████████▎| 293/313 [01:29<00:06,  3.28it/s]\n"
     ]
    },
    {
     "name": "stdout",
     "output_type": "stream",
     "text": [
      "loss_training:  0.003428453\n",
      "AUC_training:  0.9844094\n"
     ]
    },
    {
     "name": "stderr",
     "output_type": "stream",
     "text": [
      "  0%|          | 0/313 [00:00<?, ?it/s]"
     ]
    },
    {
     "name": "stdout",
     "output_type": "stream",
     "text": [
      "loss_validation:  0.0054157707\n",
      "AUC_validation:  0.97914225\n",
      "Epoch 15 Fold 1:\n"
     ]
    },
    {
     "name": "stderr",
     "output_type": "stream",
     "text": [
      " 94%|█████████▎| 293/313 [01:30<00:06,  3.22it/s]\n"
     ]
    },
    {
     "name": "stdout",
     "output_type": "stream",
     "text": [
      "loss_training:  0.0032936765\n",
      "AUC_training:  0.98522717\n",
      "loss_validation:  0.005511579\n",
      "AUC_validation:  0.97973126\n",
      "model saved!\n"
     ]
    },
    {
     "name": "stderr",
     "output_type": "stream",
     "text": [
      "  0%|          | 0/313 [00:00<?, ?it/s]"
     ]
    },
    {
     "name": "stdout",
     "output_type": "stream",
     "text": [
      "Epoch 16 Fold 1:\n"
     ]
    },
    {
     "name": "stderr",
     "output_type": "stream",
     "text": [
      " 94%|█████████▎| 293/313 [01:34<00:06,  3.09it/s]\n"
     ]
    },
    {
     "name": "stdout",
     "output_type": "stream",
     "text": [
      "loss_training:  0.00333717\n",
      "AUC_training:  0.98515207\n",
      "loss_validation:  0.0054562376\n",
      "AUC_validation:  0.9797311\n",
      "learning rate: 1.0000001111620804e-06\n"
     ]
    },
    {
     "name": "stderr",
     "output_type": "stream",
     "text": [
      "  0%|          | 0/313 [00:00<?, ?it/s]"
     ]
    },
    {
     "name": "stdout",
     "output_type": "stream",
     "text": [
      "Epoch 17 Fold 1:\n"
     ]
    },
    {
     "name": "stderr",
     "output_type": "stream",
     "text": [
      " 94%|█████████▎| 293/313 [01:30<00:06,  3.24it/s]\n"
     ]
    },
    {
     "name": "stdout",
     "output_type": "stream",
     "text": [
      "loss_training:  0.0032458939\n",
      "AUC_training:  0.984157\n"
     ]
    },
    {
     "name": "stderr",
     "output_type": "stream",
     "text": [
      "  0%|          | 0/313 [00:00<?, ?it/s]"
     ]
    },
    {
     "name": "stdout",
     "output_type": "stream",
     "text": [
      "loss_validation:  0.0055526234\n",
      "AUC_validation:  0.9787219\n",
      "Epoch 18 Fold 1:\n"
     ]
    },
    {
     "name": "stderr",
     "output_type": "stream",
     "text": [
      " 94%|█████████▎| 293/313 [01:30<00:06,  3.25it/s]\n"
     ]
    },
    {
     "name": "stdout",
     "output_type": "stream",
     "text": [
      "loss_training:  0.003318841\n",
      "AUC_training:  0.9851057\n"
     ]
    },
    {
     "name": "stderr",
     "output_type": "stream",
     "text": [
      "  0%|          | 0/313 [00:00<?, ?it/s]"
     ]
    },
    {
     "name": "stdout",
     "output_type": "stream",
     "text": [
      "loss_validation:  0.0055217217\n",
      "AUC_validation:  0.9787278\n",
      "Epoch 19 Fold 1:\n"
     ]
    },
    {
     "name": "stderr",
     "output_type": "stream",
     "text": [
      " 94%|█████████▎| 293/313 [01:30<00:06,  3.25it/s]\n"
     ]
    },
    {
     "name": "stdout",
     "output_type": "stream",
     "text": [
      "loss_training:  0.0033886093\n",
      "AUC_training:  0.9840701\n",
      "loss_validation:  0.005487815\n",
      "AUC_validation:  0.97967315\n"
     ]
    },
    {
     "name": "stderr",
     "output_type": "stream",
     "text": [
      "  0%|          | 0/313 [00:00<?, ?it/s]"
     ]
    },
    {
     "name": "stdout",
     "output_type": "stream",
     "text": [
      "Epoch 0 Fold 2:\n"
     ]
    },
    {
     "name": "stderr",
     "output_type": "stream",
     "text": [
      " 94%|█████████▎| 293/313 [03:03<00:12,  1.60it/s]\n"
     ]
    },
    {
     "name": "stdout",
     "output_type": "stream",
     "text": [
      "loss_training:  0.048519477\n",
      "AUC_training:  0.50603414\n",
      "loss_validation:  0.031668\n",
      "AUC_validation:  0.473311\n",
      "model saved!\n"
     ]
    },
    {
     "name": "stderr",
     "output_type": "stream",
     "text": [
      "  0%|          | 0/313 [00:00<?, ?it/s]"
     ]
    },
    {
     "name": "stdout",
     "output_type": "stream",
     "text": [
      "Epoch 1 Fold 2:\n"
     ]
    },
    {
     "name": "stderr",
     "output_type": "stream",
     "text": [
      " 94%|█████████▎| 293/313 [01:35<00:06,  3.07it/s]\n"
     ]
    },
    {
     "name": "stdout",
     "output_type": "stream",
     "text": [
      "loss_training:  0.028640902\n",
      "AUC_training:  0.5095525\n",
      "loss_validation:  0.02989474\n",
      "AUC_validation:  0.5053991\n",
      "model saved!\n"
     ]
    },
    {
     "name": "stderr",
     "output_type": "stream",
     "text": [
      "  0%|          | 0/313 [00:00<?, ?it/s]"
     ]
    },
    {
     "name": "stdout",
     "output_type": "stream",
     "text": [
      "Epoch 2 Fold 2:\n"
     ]
    },
    {
     "name": "stderr",
     "output_type": "stream",
     "text": [
      " 94%|█████████▎| 293/313 [01:31<00:06,  3.21it/s]\n"
     ]
    },
    {
     "name": "stdout",
     "output_type": "stream",
     "text": [
      "loss_training:  0.02822738\n",
      "AUC_training:  0.50465435\n"
     ]
    },
    {
     "name": "stderr",
     "output_type": "stream",
     "text": [
      "  0%|          | 0/313 [00:00<?, ?it/s]"
     ]
    },
    {
     "name": "stdout",
     "output_type": "stream",
     "text": [
      "loss_validation:  0.030988425\n",
      "AUC_validation:  0.48716077\n",
      "Epoch 3 Fold 2:\n"
     ]
    },
    {
     "name": "stderr",
     "output_type": "stream",
     "text": [
      " 94%|█████████▎| 293/313 [01:35<00:06,  3.07it/s]\n"
     ]
    },
    {
     "name": "stdout",
     "output_type": "stream",
     "text": [
      "loss_training:  0.028241588\n",
      "AUC_training:  0.50195754\n",
      "loss_validation:  0.029675068\n",
      "AUC_validation:  0.5370456\n",
      "model saved!\n"
     ]
    },
    {
     "name": "stderr",
     "output_type": "stream",
     "text": [
      "  0%|          | 0/313 [00:00<?, ?it/s]"
     ]
    },
    {
     "name": "stdout",
     "output_type": "stream",
     "text": [
      "Epoch 4 Fold 2:\n"
     ]
    },
    {
     "name": "stderr",
     "output_type": "stream",
     "text": [
      " 94%|█████████▎| 293/313 [01:30<00:06,  3.24it/s]\n"
     ]
    },
    {
     "name": "stdout",
     "output_type": "stream",
     "text": [
      "loss_training:  0.028132893\n",
      "AUC_training:  0.5046389\n"
     ]
    },
    {
     "name": "stderr",
     "output_type": "stream",
     "text": [
      "  0%|          | 0/313 [00:00<?, ?it/s]"
     ]
    },
    {
     "name": "stdout",
     "output_type": "stream",
     "text": [
      "loss_validation:  0.030429043\n",
      "AUC_validation:  0.48274362\n",
      "Epoch 5 Fold 2:\n"
     ]
    },
    {
     "name": "stderr",
     "output_type": "stream",
     "text": [
      " 94%|█████████▎| 293/313 [01:30<00:06,  3.23it/s]\n"
     ]
    },
    {
     "name": "stdout",
     "output_type": "stream",
     "text": [
      "loss_training:  0.0281475\n",
      "AUC_training:  0.505946\n"
     ]
    },
    {
     "name": "stderr",
     "output_type": "stream",
     "text": [
      "  0%|          | 0/313 [00:00<?, ?it/s]"
     ]
    },
    {
     "name": "stdout",
     "output_type": "stream",
     "text": [
      "loss_validation:  0.0302455\n",
      "AUC_validation:  0.49772504\n",
      "Epoch 6 Fold 2:\n"
     ]
    },
    {
     "name": "stderr",
     "output_type": "stream",
     "text": [
      " 94%|█████████▎| 293/313 [01:31<00:06,  3.22it/s]\n"
     ]
    },
    {
     "name": "stdout",
     "output_type": "stream",
     "text": [
      "loss_training:  0.028062988\n",
      "AUC_training:  0.50611776\n"
     ]
    },
    {
     "name": "stderr",
     "output_type": "stream",
     "text": [
      "  0%|          | 0/313 [00:00<?, ?it/s]"
     ]
    },
    {
     "name": "stdout",
     "output_type": "stream",
     "text": [
      "loss_validation:  0.029771628\n",
      "AUC_validation:  0.510481\n",
      "Epoch 7 Fold 2:\n"
     ]
    },
    {
     "name": "stderr",
     "output_type": "stream",
     "text": [
      " 94%|█████████▎| 293/313 [01:30<00:06,  3.22it/s]\n"
     ]
    },
    {
     "name": "stdout",
     "output_type": "stream",
     "text": [
      "loss_training:  0.027966352\n",
      "AUC_training:  0.5153782\n"
     ]
    },
    {
     "name": "stderr",
     "output_type": "stream",
     "text": [
      "  0%|          | 0/313 [00:00<?, ?it/s]"
     ]
    },
    {
     "name": "stdout",
     "output_type": "stream",
     "text": [
      "loss_validation:  0.029694358\n",
      "AUC_validation:  0.5015911\n",
      "Epoch 8 Fold 2:\n"
     ]
    },
    {
     "name": "stderr",
     "output_type": "stream",
     "text": [
      " 94%|█████████▎| 293/313 [01:30<00:06,  3.25it/s]\n"
     ]
    },
    {
     "name": "stdout",
     "output_type": "stream",
     "text": [
      "loss_training:  0.027883673\n",
      "AUC_training:  0.526634\n",
      "loss_validation:  0.029762408\n",
      "AUC_validation:  0.51737046\n",
      "learning rate: 0.00010000000474974513\n"
     ]
    },
    {
     "name": "stderr",
     "output_type": "stream",
     "text": [
      "  0%|          | 0/313 [00:00<?, ?it/s]"
     ]
    },
    {
     "name": "stdout",
     "output_type": "stream",
     "text": [
      "Epoch 9 Fold 2:\n"
     ]
    },
    {
     "name": "stderr",
     "output_type": "stream",
     "text": [
      " 94%|█████████▎| 293/313 [01:30<00:06,  3.22it/s]\n"
     ]
    },
    {
     "name": "stdout",
     "output_type": "stream",
     "text": [
      "loss_training:  0.02804137\n",
      "AUC_training:  0.50617737\n"
     ]
    },
    {
     "name": "stderr",
     "output_type": "stream",
     "text": [
      "  0%|          | 0/313 [00:00<?, ?it/s]"
     ]
    },
    {
     "name": "stdout",
     "output_type": "stream",
     "text": [
      "loss_validation:  0.029707257\n",
      "AUC_validation:  0.50720507\n",
      "Epoch 10 Fold 2:\n"
     ]
    },
    {
     "name": "stderr",
     "output_type": "stream",
     "text": [
      " 94%|█████████▎| 293/313 [01:30<00:06,  3.24it/s]\n"
     ]
    },
    {
     "name": "stdout",
     "output_type": "stream",
     "text": [
      "loss_training:  0.027924182\n",
      "AUC_training:  0.52053916\n"
     ]
    },
    {
     "name": "stderr",
     "output_type": "stream",
     "text": [
      "  0%|          | 0/313 [00:00<?, ?it/s]"
     ]
    },
    {
     "name": "stdout",
     "output_type": "stream",
     "text": [
      "loss_validation:  0.029836584\n",
      "AUC_validation:  0.5265109\n",
      "Epoch 11 Fold 2:\n"
     ]
    },
    {
     "name": "stderr",
     "output_type": "stream",
     "text": [
      " 94%|█████████▎| 293/313 [01:29<00:06,  3.27it/s]\n"
     ]
    },
    {
     "name": "stdout",
     "output_type": "stream",
     "text": [
      "loss_training:  0.027901176\n",
      "AUC_training:  0.5232115\n",
      "loss_validation:  0.029643489\n",
      "AUC_validation:  0.54242176\n",
      "model saved!\n"
     ]
    },
    {
     "name": "stderr",
     "output_type": "stream",
     "text": [
      "  0%|          | 0/313 [00:00<?, ?it/s]"
     ]
    },
    {
     "name": "stdout",
     "output_type": "stream",
     "text": [
      "Epoch 12 Fold 2:\n"
     ]
    },
    {
     "name": "stderr",
     "output_type": "stream",
     "text": [
      " 94%|█████████▎| 293/313 [01:30<00:06,  3.23it/s]\n"
     ]
    },
    {
     "name": "stdout",
     "output_type": "stream",
     "text": [
      "loss_training:  0.027905954\n",
      "AUC_training:  0.52590656\n",
      "loss_validation:  0.029673161\n",
      "AUC_validation:  0.52820814\n",
      "learning rate: 1.0000000656873453e-05\n"
     ]
    },
    {
     "name": "stderr",
     "output_type": "stream",
     "text": [
      "  0%|          | 0/313 [00:00<?, ?it/s]"
     ]
    },
    {
     "name": "stdout",
     "output_type": "stream",
     "text": [
      "Epoch 13 Fold 2:\n"
     ]
    },
    {
     "name": "stderr",
     "output_type": "stream",
     "text": [
      " 94%|█████████▎| 293/313 [01:29<00:06,  3.26it/s]\n"
     ]
    },
    {
     "name": "stdout",
     "output_type": "stream",
     "text": [
      "loss_training:  0.027856233\n",
      "AUC_training:  0.5282432\n"
     ]
    },
    {
     "name": "stderr",
     "output_type": "stream",
     "text": [
      "  0%|          | 0/313 [00:00<?, ?it/s]"
     ]
    },
    {
     "name": "stdout",
     "output_type": "stream",
     "text": [
      "loss_validation:  0.029657725\n",
      "AUC_validation:  0.5312477\n",
      "Epoch 14 Fold 2:\n"
     ]
    },
    {
     "name": "stderr",
     "output_type": "stream",
     "text": [
      " 94%|█████████▎| 293/313 [01:32<00:06,  3.18it/s]\n"
     ]
    },
    {
     "name": "stdout",
     "output_type": "stream",
     "text": [
      "loss_training:  0.027830765\n",
      "AUC_training:  0.524546\n"
     ]
    },
    {
     "name": "stderr",
     "output_type": "stream",
     "text": [
      "  0%|          | 0/313 [00:00<?, ?it/s]"
     ]
    },
    {
     "name": "stdout",
     "output_type": "stream",
     "text": [
      "loss_validation:  0.029627241\n",
      "AUC_validation:  0.53750837\n",
      "Epoch 15 Fold 2:\n"
     ]
    },
    {
     "name": "stderr",
     "output_type": "stream",
     "text": [
      " 94%|█████████▎| 293/313 [01:29<00:06,  3.26it/s]\n"
     ]
    },
    {
     "name": "stdout",
     "output_type": "stream",
     "text": [
      "loss_training:  0.02780078\n",
      "AUC_training:  0.5325271\n"
     ]
    },
    {
     "name": "stderr",
     "output_type": "stream",
     "text": [
      "  0%|          | 0/313 [00:00<?, ?it/s]"
     ]
    },
    {
     "name": "stdout",
     "output_type": "stream",
     "text": [
      "loss_validation:  0.029616252\n",
      "AUC_validation:  0.5329398\n",
      "Epoch 16 Fold 2:\n"
     ]
    },
    {
     "name": "stderr",
     "output_type": "stream",
     "text": [
      " 94%|█████████▎| 293/313 [01:30<00:06,  3.24it/s]\n"
     ]
    },
    {
     "name": "stdout",
     "output_type": "stream",
     "text": [
      "loss_training:  0.02783978\n",
      "AUC_training:  0.5355089\n",
      "loss_validation:  0.029611174\n",
      "AUC_validation:  0.53455937\n",
      "learning rate: 1.0000001111620804e-06\n"
     ]
    },
    {
     "name": "stderr",
     "output_type": "stream",
     "text": [
      "  0%|          | 0/313 [00:00<?, ?it/s]"
     ]
    },
    {
     "name": "stdout",
     "output_type": "stream",
     "text": [
      "Epoch 17 Fold 2:\n"
     ]
    },
    {
     "name": "stderr",
     "output_type": "stream",
     "text": [
      " 94%|█████████▎| 293/313 [01:35<00:06,  3.07it/s]\n"
     ]
    },
    {
     "name": "stdout",
     "output_type": "stream",
     "text": [
      "loss_training:  0.027943559\n",
      "AUC_training:  0.5160775\n"
     ]
    },
    {
     "name": "stderr",
     "output_type": "stream",
     "text": [
      "  0%|          | 0/313 [00:00<?, ?it/s]"
     ]
    },
    {
     "name": "stdout",
     "output_type": "stream",
     "text": [
      "loss_validation:  0.029681006\n",
      "AUC_validation:  0.5367918\n",
      "Epoch 18 Fold 2:\n"
     ]
    },
    {
     "name": "stderr",
     "output_type": "stream",
     "text": [
      " 94%|█████████▎| 293/313 [01:34<00:06,  3.08it/s]\n"
     ]
    },
    {
     "name": "stdout",
     "output_type": "stream",
     "text": [
      "loss_training:  0.027904429\n",
      "AUC_training:  0.5206891\n"
     ]
    },
    {
     "name": "stderr",
     "output_type": "stream",
     "text": [
      "  0%|          | 0/313 [00:00<?, ?it/s]"
     ]
    },
    {
     "name": "stdout",
     "output_type": "stream",
     "text": [
      "loss_validation:  0.02966857\n",
      "AUC_validation:  0.53003746\n",
      "Epoch 19 Fold 2:\n"
     ]
    },
    {
     "name": "stderr",
     "output_type": "stream",
     "text": [
      " 94%|█████████▎| 293/313 [01:30<00:06,  3.23it/s]\n"
     ]
    },
    {
     "name": "stdout",
     "output_type": "stream",
     "text": [
      "loss_training:  0.027935114\n",
      "AUC_training:  0.5171398\n",
      "loss_validation:  0.02967791\n",
      "AUC_validation:  0.52744174\n"
     ]
    },
    {
     "name": "stderr",
     "output_type": "stream",
     "text": [
      "  0%|          | 0/313 [00:00<?, ?it/s]"
     ]
    },
    {
     "name": "stdout",
     "output_type": "stream",
     "text": [
      "Epoch 0 Fold 3:\n"
     ]
    },
    {
     "name": "stderr",
     "output_type": "stream",
     "text": [
      " 94%|█████████▎| 293/313 [03:03<00:12,  1.60it/s]\n"
     ]
    },
    {
     "name": "stdout",
     "output_type": "stream",
     "text": [
      "loss_training:  0.045350622\n",
      "AUC_training:  0.5143188\n",
      "loss_validation:  0.03058291\n",
      "AUC_validation:  0.5087543\n",
      "model saved!\n"
     ]
    },
    {
     "name": "stderr",
     "output_type": "stream",
     "text": [
      "  0%|          | 0/313 [00:00<?, ?it/s]"
     ]
    },
    {
     "name": "stdout",
     "output_type": "stream",
     "text": [
      "Epoch 1 Fold 3:\n"
     ]
    },
    {
     "name": "stderr",
     "output_type": "stream",
     "text": [
      " 94%|█████████▎| 293/313 [01:31<00:06,  3.21it/s]\n"
     ]
    },
    {
     "name": "stdout",
     "output_type": "stream",
     "text": [
      "loss_training:  0.02848043\n",
      "AUC_training:  0.50873923\n",
      "loss_validation:  0.031755906\n",
      "AUC_validation:  0.5178118\n",
      "model saved!\n"
     ]
    },
    {
     "name": "stderr",
     "output_type": "stream",
     "text": [
      "  0%|          | 0/313 [00:00<?, ?it/s]"
     ]
    },
    {
     "name": "stdout",
     "output_type": "stream",
     "text": [
      "Epoch 2 Fold 3:\n"
     ]
    },
    {
     "name": "stderr",
     "output_type": "stream",
     "text": [
      " 94%|█████████▎| 293/313 [01:30<00:06,  3.24it/s]\n"
     ]
    },
    {
     "name": "stdout",
     "output_type": "stream",
     "text": [
      "loss_training:  0.028331617\n",
      "AUC_training:  0.51329505\n",
      "loss_validation:  0.0298694\n",
      "AUC_validation:  0.52323383\n",
      "model saved!\n"
     ]
    },
    {
     "name": "stderr",
     "output_type": "stream",
     "text": [
      "  0%|          | 0/313 [00:00<?, ?it/s]"
     ]
    },
    {
     "name": "stdout",
     "output_type": "stream",
     "text": [
      "Epoch 3 Fold 3:\n"
     ]
    },
    {
     "name": "stderr",
     "output_type": "stream",
     "text": [
      " 94%|█████████▎| 293/313 [01:30<00:06,  3.22it/s]\n"
     ]
    },
    {
     "name": "stdout",
     "output_type": "stream",
     "text": [
      "loss_training:  0.02824457\n",
      "AUC_training:  0.50113446\n"
     ]
    },
    {
     "name": "stderr",
     "output_type": "stream",
     "text": [
      "  0%|          | 0/313 [00:00<?, ?it/s]"
     ]
    },
    {
     "name": "stdout",
     "output_type": "stream",
     "text": [
      "loss_validation:  0.029800992\n",
      "AUC_validation:  0.50919574\n",
      "Epoch 4 Fold 3:\n"
     ]
    },
    {
     "name": "stderr",
     "output_type": "stream",
     "text": [
      " 94%|█████████▎| 293/313 [01:31<00:06,  3.20it/s]\n"
     ]
    },
    {
     "name": "stdout",
     "output_type": "stream",
     "text": [
      "loss_training:  0.028214727\n",
      "AUC_training:  0.5084038\n",
      "loss_validation:  0.030011015\n",
      "AUC_validation:  0.5279536\n",
      "model saved!\n"
     ]
    },
    {
     "name": "stderr",
     "output_type": "stream",
     "text": [
      "  0%|          | 0/313 [00:00<?, ?it/s]"
     ]
    },
    {
     "name": "stdout",
     "output_type": "stream",
     "text": [
      "Epoch 5 Fold 3:\n"
     ]
    },
    {
     "name": "stderr",
     "output_type": "stream",
     "text": [
      " 94%|█████████▎| 293/313 [01:31<00:06,  3.21it/s]\n"
     ]
    },
    {
     "name": "stdout",
     "output_type": "stream",
     "text": [
      "loss_training:  0.028060934\n",
      "AUC_training:  0.5162374\n"
     ]
    },
    {
     "name": "stderr",
     "output_type": "stream",
     "text": [
      "  0%|          | 0/313 [00:00<?, ?it/s]"
     ]
    },
    {
     "name": "stdout",
     "output_type": "stream",
     "text": [
      "loss_validation:  0.030137125\n",
      "AUC_validation:  0.5168072\n",
      "Epoch 6 Fold 3:\n"
     ]
    },
    {
     "name": "stderr",
     "output_type": "stream",
     "text": [
      " 94%|█████████▎| 293/313 [01:34<00:06,  3.09it/s]\n"
     ]
    },
    {
     "name": "stdout",
     "output_type": "stream",
     "text": [
      "loss_training:  0.028125675\n",
      "AUC_training:  0.50909334\n",
      "loss_validation:  0.031238137\n",
      "AUC_validation:  0.5370505\n",
      "model saved!\n"
     ]
    },
    {
     "name": "stderr",
     "output_type": "stream",
     "text": [
      "  0%|          | 0/313 [00:00<?, ?it/s]"
     ]
    },
    {
     "name": "stdout",
     "output_type": "stream",
     "text": [
      "Epoch 7 Fold 3:\n"
     ]
    },
    {
     "name": "stderr",
     "output_type": "stream",
     "text": [
      " 94%|█████████▎| 293/313 [01:30<00:06,  3.25it/s]\n"
     ]
    },
    {
     "name": "stdout",
     "output_type": "stream",
     "text": [
      "loss_training:  0.020426417\n",
      "AUC_training:  0.82199085\n",
      "loss_validation:  0.03602782\n",
      "AUC_validation:  0.66363966\n",
      "model saved!\n"
     ]
    },
    {
     "name": "stderr",
     "output_type": "stream",
     "text": [
      "  0%|          | 0/313 [00:00<?, ?it/s]"
     ]
    },
    {
     "name": "stdout",
     "output_type": "stream",
     "text": [
      "Epoch 8 Fold 3:\n"
     ]
    },
    {
     "name": "stderr",
     "output_type": "stream",
     "text": [
      " 94%|█████████▎| 293/313 [01:30<00:06,  3.22it/s]\n"
     ]
    },
    {
     "name": "stdout",
     "output_type": "stream",
     "text": [
      "loss_training:  0.013689164\n",
      "AUC_training:  0.91716766\n",
      "loss_validation:  0.029122995\n",
      "AUC_validation:  0.69834304\n",
      "model saved!\n",
      "learning rate: 0.00010000000474974513\n"
     ]
    },
    {
     "name": "stderr",
     "output_type": "stream",
     "text": [
      "  0%|          | 0/313 [00:00<?, ?it/s]"
     ]
    },
    {
     "name": "stdout",
     "output_type": "stream",
     "text": [
      "Epoch 9 Fold 3:\n"
     ]
    },
    {
     "name": "stderr",
     "output_type": "stream",
     "text": [
      " 94%|█████████▎| 293/313 [01:34<00:06,  3.09it/s]\n"
     ]
    },
    {
     "name": "stdout",
     "output_type": "stream",
     "text": [
      "loss_training:  0.010261845\n",
      "AUC_training:  0.9435114\n",
      "loss_validation:  0.009820933\n",
      "AUC_validation:  0.95599663\n",
      "model saved!\n"
     ]
    },
    {
     "name": "stderr",
     "output_type": "stream",
     "text": [
      "  0%|          | 0/313 [00:00<?, ?it/s]"
     ]
    },
    {
     "name": "stdout",
     "output_type": "stream",
     "text": [
      "Epoch 10 Fold 3:\n"
     ]
    },
    {
     "name": "stderr",
     "output_type": "stream",
     "text": [
      " 94%|█████████▎| 293/313 [01:30<00:06,  3.23it/s]\n"
     ]
    },
    {
     "name": "stdout",
     "output_type": "stream",
     "text": [
      "loss_training:  0.009335499\n",
      "AUC_training:  0.95215034\n"
     ]
    },
    {
     "name": "stderr",
     "output_type": "stream",
     "text": [
      "  0%|          | 0/313 [00:00<?, ?it/s]"
     ]
    },
    {
     "name": "stdout",
     "output_type": "stream",
     "text": [
      "loss_validation:  0.009405597\n",
      "AUC_validation:  0.95485985\n",
      "Epoch 11 Fold 3:\n"
     ]
    },
    {
     "name": "stderr",
     "output_type": "stream",
     "text": [
      " 94%|█████████▎| 293/313 [01:30<00:06,  3.25it/s]\n"
     ]
    },
    {
     "name": "stdout",
     "output_type": "stream",
     "text": [
      "loss_training:  0.008679984\n",
      "AUC_training:  0.9555624\n"
     ]
    },
    {
     "name": "stderr",
     "output_type": "stream",
     "text": [
      "  0%|          | 0/313 [00:00<?, ?it/s]"
     ]
    },
    {
     "name": "stdout",
     "output_type": "stream",
     "text": [
      "loss_validation:  0.009302852\n",
      "AUC_validation:  0.95510167\n",
      "Epoch 12 Fold 3:\n"
     ]
    },
    {
     "name": "stderr",
     "output_type": "stream",
     "text": [
      " 94%|█████████▎| 293/313 [01:35<00:06,  3.08it/s]\n"
     ]
    },
    {
     "name": "stdout",
     "output_type": "stream",
     "text": [
      "loss_training:  0.0083433725\n",
      "AUC_training:  0.9579564\n",
      "loss_validation:  0.008908856\n",
      "AUC_validation:  0.9580704\n",
      "model saved!\n",
      "learning rate: 1.0000000656873453e-05\n"
     ]
    },
    {
     "name": "stderr",
     "output_type": "stream",
     "text": [
      "  0%|          | 0/313 [00:00<?, ?it/s]"
     ]
    },
    {
     "name": "stdout",
     "output_type": "stream",
     "text": [
      "Epoch 13 Fold 3:\n"
     ]
    },
    {
     "name": "stderr",
     "output_type": "stream",
     "text": [
      " 94%|█████████▎| 293/313 [01:35<00:06,  3.08it/s]\n"
     ]
    },
    {
     "name": "stdout",
     "output_type": "stream",
     "text": [
      "loss_training:  0.007912408\n",
      "AUC_training:  0.9616438\n",
      "loss_validation:  0.008757886\n",
      "AUC_validation:  0.95986044\n",
      "model saved!\n"
     ]
    },
    {
     "name": "stderr",
     "output_type": "stream",
     "text": [
      "  0%|          | 0/313 [00:00<?, ?it/s]"
     ]
    },
    {
     "name": "stdout",
     "output_type": "stream",
     "text": [
      "Epoch 14 Fold 3:\n"
     ]
    },
    {
     "name": "stderr",
     "output_type": "stream",
     "text": [
      " 94%|█████████▎| 293/313 [01:34<00:06,  3.09it/s]\n"
     ]
    },
    {
     "name": "stdout",
     "output_type": "stream",
     "text": [
      "loss_training:  0.007954302\n",
      "AUC_training:  0.9601919\n",
      "loss_validation:  0.0086610075\n",
      "AUC_validation:  0.9605136\n",
      "model saved!\n"
     ]
    },
    {
     "name": "stderr",
     "output_type": "stream",
     "text": [
      "  0%|          | 0/313 [00:00<?, ?it/s]"
     ]
    },
    {
     "name": "stdout",
     "output_type": "stream",
     "text": [
      "Epoch 15 Fold 3:\n"
     ]
    },
    {
     "name": "stderr",
     "output_type": "stream",
     "text": [
      " 94%|█████████▎| 293/313 [01:30<00:06,  3.23it/s]\n"
     ]
    },
    {
     "name": "stdout",
     "output_type": "stream",
     "text": [
      "loss_training:  0.007623799\n",
      "AUC_training:  0.961398\n",
      "loss_validation:  0.0085855145\n",
      "AUC_validation:  0.9615959\n",
      "model saved!\n"
     ]
    },
    {
     "name": "stderr",
     "output_type": "stream",
     "text": [
      "  0%|          | 0/313 [00:00<?, ?it/s]"
     ]
    },
    {
     "name": "stdout",
     "output_type": "stream",
     "text": [
      "Epoch 16 Fold 3:\n"
     ]
    },
    {
     "name": "stderr",
     "output_type": "stream",
     "text": [
      " 94%|█████████▎| 293/313 [01:29<00:06,  3.26it/s]\n"
     ]
    },
    {
     "name": "stdout",
     "output_type": "stream",
     "text": [
      "loss_training:  0.007739246\n",
      "AUC_training:  0.9624258\n",
      "loss_validation:  0.008559899\n",
      "AUC_validation:  0.96103\n",
      "learning rate: 1.0000001111620804e-06\n"
     ]
    },
    {
     "name": "stderr",
     "output_type": "stream",
     "text": [
      "  0%|          | 0/313 [00:00<?, ?it/s]"
     ]
    },
    {
     "name": "stdout",
     "output_type": "stream",
     "text": [
      "Epoch 17 Fold 3:\n"
     ]
    },
    {
     "name": "stderr",
     "output_type": "stream",
     "text": [
      " 94%|█████████▎| 293/313 [01:30<00:06,  3.23it/s]\n"
     ]
    },
    {
     "name": "stdout",
     "output_type": "stream",
     "text": [
      "loss_training:  0.007789063\n",
      "AUC_training:  0.9621857\n"
     ]
    },
    {
     "name": "stderr",
     "output_type": "stream",
     "text": [
      "  0%|          | 0/313 [00:00<?, ?it/s]"
     ]
    },
    {
     "name": "stdout",
     "output_type": "stream",
     "text": [
      "loss_validation:  0.008576877\n",
      "AUC_validation:  0.96110165\n",
      "Epoch 18 Fold 3:\n"
     ]
    },
    {
     "name": "stderr",
     "output_type": "stream",
     "text": [
      " 94%|█████████▎| 293/313 [01:29<00:06,  3.27it/s]\n"
     ]
    },
    {
     "name": "stdout",
     "output_type": "stream",
     "text": [
      "loss_training:  0.0077444008\n",
      "AUC_training:  0.96099234\n"
     ]
    },
    {
     "name": "stderr",
     "output_type": "stream",
     "text": [
      "  0%|          | 0/313 [00:00<?, ?it/s]"
     ]
    },
    {
     "name": "stdout",
     "output_type": "stream",
     "text": [
      "loss_validation:  0.008571959\n",
      "AUC_validation:  0.9614758\n",
      "Epoch 19 Fold 3:\n"
     ]
    },
    {
     "name": "stderr",
     "output_type": "stream",
     "text": [
      " 94%|█████████▎| 293/313 [01:35<00:06,  3.07it/s]\n"
     ]
    },
    {
     "name": "stdout",
     "output_type": "stream",
     "text": [
      "loss_training:  0.0078007057\n",
      "AUC_training:  0.96068305\n",
      "loss_validation:  0.008569434\n",
      "AUC_validation:  0.9612131\n"
     ]
    },
    {
     "name": "stderr",
     "output_type": "stream",
     "text": [
      "  0%|          | 0/313 [00:00<?, ?it/s]"
     ]
    },
    {
     "name": "stdout",
     "output_type": "stream",
     "text": [
      "Epoch 0 Fold 4:\n"
     ]
    },
    {
     "name": "stderr",
     "output_type": "stream",
     "text": [
      "100%|██████████| 313/313 [03:09<00:00,  1.65it/s]\n"
     ]
    },
    {
     "name": "stdout",
     "output_type": "stream",
     "text": [
      "loss_training:  0.03630081\n",
      "AUC_training:  0.5049666\n",
      "loss_validation:  0.022924682\n",
      "AUC_validation:  0.5\n",
      "model saved!\n"
     ]
    },
    {
     "name": "stderr",
     "output_type": "stream",
     "text": [
      "  0%|          | 0/313 [00:00<?, ?it/s]"
     ]
    },
    {
     "name": "stdout",
     "output_type": "stream",
     "text": [
      "Epoch 1 Fold 4:\n"
     ]
    },
    {
     "name": "stderr",
     "output_type": "stream",
     "text": [
      "100%|██████████| 313/313 [01:41<00:00,  3.08it/s]\n"
     ]
    },
    {
     "name": "stdout",
     "output_type": "stream",
     "text": [
      "loss_training:  0.029091604\n",
      "AUC_training:  0.5971854\n",
      "loss_validation:  0.020354625\n",
      "AUC_validation:  0.73770595\n",
      "model saved!\n"
     ]
    },
    {
     "name": "stderr",
     "output_type": "stream",
     "text": [
      "  0%|          | 0/313 [00:00<?, ?it/s]"
     ]
    },
    {
     "name": "stdout",
     "output_type": "stream",
     "text": [
      "Epoch 2 Fold 4:\n"
     ]
    },
    {
     "name": "stderr",
     "output_type": "stream",
     "text": [
      "100%|██████████| 313/313 [01:41<00:00,  3.08it/s]\n"
     ]
    },
    {
     "name": "stdout",
     "output_type": "stream",
     "text": [
      "loss_training:  0.014745688\n",
      "AUC_training:  0.91675365\n",
      "loss_validation:  0.009603181\n",
      "AUC_validation:  0.93243665\n",
      "model saved!\n"
     ]
    },
    {
     "name": "stderr",
     "output_type": "stream",
     "text": [
      "  0%|          | 0/313 [00:00<?, ?it/s]"
     ]
    },
    {
     "name": "stdout",
     "output_type": "stream",
     "text": [
      "Epoch 3 Fold 4:\n"
     ]
    },
    {
     "name": "stderr",
     "output_type": "stream",
     "text": [
      "100%|██████████| 313/313 [01:36<00:00,  3.24it/s]\n"
     ]
    },
    {
     "name": "stdout",
     "output_type": "stream",
     "text": [
      "loss_training:  0.009890429\n",
      "AUC_training:  0.95365286\n",
      "loss_validation:  0.009067465\n",
      "AUC_validation:  0.9353756\n",
      "model saved!\n"
     ]
    },
    {
     "name": "stderr",
     "output_type": "stream",
     "text": [
      "  0%|          | 0/313 [00:00<?, ?it/s]"
     ]
    },
    {
     "name": "stdout",
     "output_type": "stream",
     "text": [
      "Epoch 4 Fold 4:\n"
     ]
    },
    {
     "name": "stderr",
     "output_type": "stream",
     "text": [
      "100%|██████████| 313/313 [01:37<00:00,  3.21it/s]\n"
     ]
    },
    {
     "name": "stdout",
     "output_type": "stream",
     "text": [
      "loss_training:  0.008464902\n",
      "AUC_training:  0.9606801\n"
     ]
    },
    {
     "name": "stderr",
     "output_type": "stream",
     "text": [
      "  0%|          | 0/313 [00:00<?, ?it/s]"
     ]
    },
    {
     "name": "stdout",
     "output_type": "stream",
     "text": [
      "loss_validation:  0.012730149\n",
      "AUC_validation:  0.92828864\n",
      "Epoch 5 Fold 4:\n"
     ]
    },
    {
     "name": "stderr",
     "output_type": "stream",
     "text": [
      "100%|██████████| 313/313 [01:37<00:00,  3.20it/s]\n"
     ]
    },
    {
     "name": "stdout",
     "output_type": "stream",
     "text": [
      "loss_training:  0.007635326\n",
      "AUC_training:  0.9662184\n"
     ]
    },
    {
     "name": "stderr",
     "output_type": "stream",
     "text": [
      "  0%|          | 0/313 [00:00<?, ?it/s]"
     ]
    },
    {
     "name": "stdout",
     "output_type": "stream",
     "text": [
      "loss_validation:  0.014601454\n",
      "AUC_validation:  0.8787515\n",
      "Epoch 6 Fold 4:\n"
     ]
    },
    {
     "name": "stderr",
     "output_type": "stream",
     "text": [
      "100%|██████████| 313/313 [01:37<00:00,  3.22it/s]\n"
     ]
    },
    {
     "name": "stdout",
     "output_type": "stream",
     "text": [
      "loss_training:  0.0074395607\n",
      "AUC_training:  0.965162\n",
      "loss_validation:  0.006950111\n",
      "AUC_validation:  0.9619013\n",
      "model saved!\n"
     ]
    },
    {
     "name": "stderr",
     "output_type": "stream",
     "text": [
      "  0%|          | 0/313 [00:00<?, ?it/s]"
     ]
    },
    {
     "name": "stdout",
     "output_type": "stream",
     "text": [
      "Epoch 7 Fold 4:\n"
     ]
    },
    {
     "name": "stderr",
     "output_type": "stream",
     "text": [
      "100%|██████████| 313/313 [01:36<00:00,  3.23it/s]\n"
     ]
    },
    {
     "name": "stdout",
     "output_type": "stream",
     "text": [
      "loss_training:  0.007127263\n",
      "AUC_training:  0.9687599\n"
     ]
    },
    {
     "name": "stderr",
     "output_type": "stream",
     "text": [
      "  0%|          | 0/313 [00:00<?, ?it/s]"
     ]
    },
    {
     "name": "stdout",
     "output_type": "stream",
     "text": [
      "loss_validation:  0.008291745\n",
      "AUC_validation:  0.9354446\n",
      "Epoch 8 Fold 4:\n"
     ]
    },
    {
     "name": "stderr",
     "output_type": "stream",
     "text": [
      "100%|██████████| 313/313 [01:36<00:00,  3.23it/s]\n"
     ]
    },
    {
     "name": "stdout",
     "output_type": "stream",
     "text": [
      "loss_training:  0.006914322\n",
      "AUC_training:  0.96852624\n",
      "loss_validation:  0.009699066\n",
      "AUC_validation:  0.9133022\n",
      "learning rate: 0.00010000000474974513\n"
     ]
    },
    {
     "name": "stderr",
     "output_type": "stream",
     "text": [
      "  0%|          | 0/313 [00:00<?, ?it/s]"
     ]
    },
    {
     "name": "stdout",
     "output_type": "stream",
     "text": [
      "Epoch 9 Fold 4:\n"
     ]
    },
    {
     "name": "stderr",
     "output_type": "stream",
     "text": [
      "100%|██████████| 313/313 [01:38<00:00,  3.17it/s]\n"
     ]
    },
    {
     "name": "stdout",
     "output_type": "stream",
     "text": [
      "loss_training:  0.0054892274\n",
      "AUC_training:  0.97924924\n",
      "loss_validation:  0.0051846257\n",
      "AUC_validation:  0.97173\n",
      "model saved!\n"
     ]
    },
    {
     "name": "stderr",
     "output_type": "stream",
     "text": [
      "  0%|          | 0/313 [00:00<?, ?it/s]"
     ]
    },
    {
     "name": "stdout",
     "output_type": "stream",
     "text": [
      "Epoch 10 Fold 4:\n"
     ]
    },
    {
     "name": "stderr",
     "output_type": "stream",
     "text": [
      "100%|██████████| 313/313 [01:38<00:00,  3.19it/s]\n"
     ]
    },
    {
     "name": "stdout",
     "output_type": "stream",
     "text": [
      "loss_training:  0.004779518\n",
      "AUC_training:  0.9817643\n",
      "loss_validation:  0.005047191\n",
      "AUC_validation:  0.9727782\n",
      "model saved!\n"
     ]
    },
    {
     "name": "stderr",
     "output_type": "stream",
     "text": [
      "  0%|          | 0/313 [00:00<?, ?it/s]"
     ]
    },
    {
     "name": "stdout",
     "output_type": "stream",
     "text": [
      "Epoch 11 Fold 4:\n"
     ]
    },
    {
     "name": "stderr",
     "output_type": "stream",
     "text": [
      "100%|██████████| 313/313 [01:37<00:00,  3.21it/s]\n"
     ]
    },
    {
     "name": "stdout",
     "output_type": "stream",
     "text": [
      "loss_training:  0.00437996\n",
      "AUC_training:  0.9825134\n"
     ]
    },
    {
     "name": "stderr",
     "output_type": "stream",
     "text": [
      "  0%|          | 0/313 [00:00<?, ?it/s]"
     ]
    },
    {
     "name": "stdout",
     "output_type": "stream",
     "text": [
      "loss_validation:  0.0052146045\n",
      "AUC_validation:  0.97068405\n",
      "Epoch 12 Fold 4:\n"
     ]
    },
    {
     "name": "stderr",
     "output_type": "stream",
     "text": [
      "100%|██████████| 313/313 [01:36<00:00,  3.25it/s]\n"
     ]
    },
    {
     "name": "stdout",
     "output_type": "stream",
     "text": [
      "loss_training:  0.0040167724\n",
      "AUC_training:  0.9836679\n",
      "loss_validation:  0.005031365\n",
      "AUC_validation:  0.9714122\n",
      "learning rate: 1.0000000656873453e-05\n"
     ]
    },
    {
     "name": "stderr",
     "output_type": "stream",
     "text": [
      "  0%|          | 0/313 [00:00<?, ?it/s]"
     ]
    },
    {
     "name": "stdout",
     "output_type": "stream",
     "text": [
      "Epoch 13 Fold 4:\n"
     ]
    },
    {
     "name": "stderr",
     "output_type": "stream",
     "text": [
      "100%|██████████| 313/313 [01:37<00:00,  3.22it/s]\n"
     ]
    },
    {
     "name": "stdout",
     "output_type": "stream",
     "text": [
      "loss_training:  0.0041982606\n",
      "AUC_training:  0.98382056\n",
      "loss_validation:  0.0048996806\n",
      "AUC_validation:  0.973894\n",
      "model saved!\n"
     ]
    },
    {
     "name": "stderr",
     "output_type": "stream",
     "text": [
      "  0%|          | 0/313 [00:00<?, ?it/s]"
     ]
    },
    {
     "name": "stdout",
     "output_type": "stream",
     "text": [
      "Epoch 14 Fold 4:\n"
     ]
    },
    {
     "name": "stderr",
     "output_type": "stream",
     "text": [
      "100%|██████████| 313/313 [01:37<00:00,  3.22it/s]\n"
     ]
    },
    {
     "name": "stdout",
     "output_type": "stream",
     "text": [
      "loss_training:  0.0040594824\n",
      "AUC_training:  0.9859041\n",
      "loss_validation:  0.004919792\n",
      "AUC_validation:  0.97468966\n",
      "model saved!\n"
     ]
    },
    {
     "name": "stderr",
     "output_type": "stream",
     "text": [
      "  0%|          | 0/313 [00:00<?, ?it/s]"
     ]
    },
    {
     "name": "stdout",
     "output_type": "stream",
     "text": [
      "Epoch 15 Fold 4:\n"
     ]
    },
    {
     "name": "stderr",
     "output_type": "stream",
     "text": [
      "100%|██████████| 313/313 [01:37<00:00,  3.23it/s]\n"
     ]
    },
    {
     "name": "stdout",
     "output_type": "stream",
     "text": [
      "loss_training:  0.004034221\n",
      "AUC_training:  0.9852801\n",
      "loss_validation:  0.0049747853\n",
      "AUC_validation:  0.9748293\n",
      "model saved!\n"
     ]
    },
    {
     "name": "stderr",
     "output_type": "stream",
     "text": [
      "  0%|          | 0/313 [00:00<?, ?it/s]"
     ]
    },
    {
     "name": "stdout",
     "output_type": "stream",
     "text": [
      "Epoch 16 Fold 4:\n"
     ]
    },
    {
     "name": "stderr",
     "output_type": "stream",
     "text": [
      "100%|██████████| 313/313 [01:42<00:00,  3.04it/s]\n"
     ]
    },
    {
     "name": "stdout",
     "output_type": "stream",
     "text": [
      "loss_training:  0.0040082783\n",
      "AUC_training:  0.9847655\n",
      "loss_validation:  0.0049132803\n",
      "AUC_validation:  0.9760158\n",
      "model saved!\n",
      "learning rate: 1.0000001111620804e-06\n"
     ]
    },
    {
     "name": "stderr",
     "output_type": "stream",
     "text": [
      "  0%|          | 0/313 [00:00<?, ?it/s]"
     ]
    },
    {
     "name": "stdout",
     "output_type": "stream",
     "text": [
      "Epoch 17 Fold 4:\n"
     ]
    },
    {
     "name": "stderr",
     "output_type": "stream",
     "text": [
      "100%|██████████| 313/313 [01:42<00:00,  3.04it/s]\n"
     ]
    },
    {
     "name": "stdout",
     "output_type": "stream",
     "text": [
      "loss_training:  0.0039522885\n",
      "AUC_training:  0.98511237\n"
     ]
    },
    {
     "name": "stderr",
     "output_type": "stream",
     "text": [
      "  0%|          | 0/313 [00:00<?, ?it/s]"
     ]
    },
    {
     "name": "stdout",
     "output_type": "stream",
     "text": [
      "loss_validation:  0.00488915\n",
      "AUC_validation:  0.97448754\n",
      "Epoch 18 Fold 4:\n"
     ]
    },
    {
     "name": "stderr",
     "output_type": "stream",
     "text": [
      "100%|██████████| 313/313 [01:43<00:00,  3.03it/s]\n"
     ]
    },
    {
     "name": "stdout",
     "output_type": "stream",
     "text": [
      "loss_training:  0.003845826\n",
      "AUC_training:  0.98740584\n"
     ]
    },
    {
     "name": "stderr",
     "output_type": "stream",
     "text": [
      "  0%|          | 0/313 [00:00<?, ?it/s]"
     ]
    },
    {
     "name": "stdout",
     "output_type": "stream",
     "text": [
      "loss_validation:  0.004892474\n",
      "AUC_validation:  0.97467035\n",
      "Epoch 19 Fold 4:\n"
     ]
    },
    {
     "name": "stderr",
     "output_type": "stream",
     "text": [
      "100%|██████████| 313/313 [01:42<00:00,  3.04it/s]\n"
     ]
    },
    {
     "name": "stdout",
     "output_type": "stream",
     "text": [
      "loss_training:  0.003921284\n",
      "AUC_training:  0.9853397\n",
      "loss_validation:  0.004876547\n",
      "AUC_validation:  0.9751917\n"
     ]
    }
   ],
   "source": [
    "train_tfrec = np.array(tf.io.gfile.glob(GCS_PATH_train_p1 + '/train_tfrec/*') + \n",
    "                       tf.io.gfile.glob(GCS_PATH_train_p2 + '/train_tfrec/*') +\n",
    "                       tf.io.gfile.glob(GCS_PATH_train_p3 + '/train_tfrec/*') +\n",
    "                       tf.io.gfile.glob(GCS_PATH_train_p4 + '/train_tfrec/*'))\n",
    "test_OOF = train_tfrec[0]\n",
    "train_tfrec = train_tfrec[1:]\n",
    "# random.shuffle(train_tfrec)\n",
    "for seed in range(0, 1):\n",
    "    skf = model_selection.KFold(n_splits=5, random_state=1370 + seed, shuffle=True)\n",
    "    for fold, (it, iv) in enumerate(skf.split(train_tfrec)):\n",
    "\n",
    "    #     tf.tpu.experimental.initialize_tpu_system(tpu)\n",
    "        K.clear_session()\n",
    "        # @tf.function\n",
    "        def training_(imgs, lbls):\n",
    "            imgs = tf.transpose(imgs, [0, 3, 1, 2])\n",
    "            lbls = tf.cast(lbls, tf.float32)\n",
    "            w_ = (1 + lbls * 15) / 16\n",
    "            lbls = lbls[..., tf.newaxis]\n",
    "            with tf.GradientTape() as tape:\n",
    "                y_pred = model(imgs, training=True)\n",
    "                losses = loss(lbls, y_pred, sample_weight=w_)\n",
    "            grads = tape.gradient(losses, model.trainable_variables)\n",
    "            opt.apply_gradients(zip(grads, model.trainable_variables))\n",
    "            auc.update_state(lbls, y_pred)\n",
    "            return tf.reduce_mean(losses)\n",
    "        # @tf.function\n",
    "        def validation_(imgs, lbls):\n",
    "            lbls = tf.cast(lbls, tf.float32)\n",
    "            imgs = tf.transpose(imgs, [0, 3, 1, 2])\n",
    "            w_ = (1 + lbls * 15) / 16\n",
    "            lbls = lbls[..., tf.newaxis]\n",
    "            y_pred = model(imgs)\n",
    "            auc.update_state(lbls, y_pred)\n",
    "            loss_ = loss(lbls, y_pred, sample_weight=w_)\n",
    "            loss_ = tf.reduce_mean(loss_)\n",
    "            return loss_\n",
    "\n",
    "        @tf.function\n",
    "        def validatation_dist(imgs, lbls):\n",
    "            per_rep_losses = strategy.run(validation_, args=(imgs, lbls,))\n",
    "            dist_losses = strategy.reduce(\"MEAN\", per_rep_losses, axis=None)\n",
    "            return dist_losses\n",
    "\n",
    "        @tf.function\n",
    "        def training_dist(imgs, lbls):\n",
    "            per_rep_losses = strategy.run(training_, args=(imgs, lbls,))\n",
    "            dist_losses = strategy.reduce(\"MEAN\", per_rep_losses, axis=None)\n",
    "            return dist_losses\n",
    "        ds_train = tf.data.TFRecordDataset(train_tfrec[it], num_parallel_reads=AUTO)\n",
    "        ds_train = ds_train.shuffle(1024*50, seed=1370)\n",
    "        opti = tf.data.Options()\n",
    "        opti.experimental_deterministic = False\n",
    "        ds_train = ds_train.with_options(opti)\n",
    "        ds_train = ds_train.map(read_tfrec, num_parallel_calls=AUTO)\n",
    "        ds_train = ds_train.map(lambda img, lbl: (prepare_img(img), lbl))\n",
    "\n",
    "\n",
    "        ds_valid = tf.data.TFRecordDataset(train_tfrec[iv], num_parallel_reads=AUTO)\n",
    "        ds_valid = ds_valid.map(read_tfrec, num_parallel_calls=AUTO)\n",
    "        ds_valid = ds_valid.map(lambda img, lbl: (prepare_img(img), lbl))\n",
    "\n",
    "        ds_train = ds_train.batch(BATCH_SIZE, drop_remainder=True).prefetch(AUTO)\n",
    "        ds_train_dist = strategy.experimental_distribute_dataset(ds_train)\n",
    "        ds_valid = ds_valid.batch(BATCH_SIZE, drop_remainder=True).prefetch(AUTO)\n",
    "        ds_valid_dist = strategy.experimental_distribute_dataset(ds_valid)\n",
    "\n",
    "        validation_res = 0\n",
    "\n",
    "        with strategy.scope():\n",
    "            opt = tf.keras.optimizers.Adam(learning_rate=0.001)\n",
    "#             opt = tfa.optimizers.AdamW(\n",
    "#                                 weight_decay=1e-7,\n",
    "#                                 learning_rate=1e-4,\n",
    "#                                 beta_1=0.9,\n",
    "#                                 beta_2=0.999,\n",
    "#                                 epsilon=1e-07,\n",
    "#                                 amsgrad=True,\n",
    "#                                 name='AdamW',\n",
    "#                             )\n",
    "        #     loss = tf.keras.losses.BinaryCrossentropy(label_smoothing=0.01, reduction='none')\n",
    "            def loss(y_true, y_pred, sample_weight):\n",
    "#                 return tf.multiply(tf.keras.losses.binary_crossentropy(y_true, y_pred), sample_weight)\n",
    "                return tfa.losses.sigmoid_focal_crossentropy(y_true, y_pred)\n",
    "        # #         return tf.nn.weighted_cross_entropy_with_logits(y_true, y_pred, 10)\n",
    "            auc = tf.keras.metrics.AUC(num_thresholds=50)\n",
    "            model = create_model()\n",
    "\n",
    "        for epoch in range(20):\n",
    "            print(f'Epoch {epoch} Fold {fold}:')\n",
    "            losses = tf.Variable(0.)\n",
    "            with strategy.scope():\n",
    "    #             for imgs, lbls in ds_train_dist:\n",
    "                for _, (imgs, lbls) in zip(tqdm.tqdm(range((NUM_TRAIN_SAMPLES - VAL_SIZE) // BATCH_SIZE), leave=True, position=0), ds_train_dist):\n",
    "                    losses.assign_add(training_dist(imgs, lbls))\n",
    "            print('loss_training: ',(losses / ((NUM_TRAIN_SAMPLES - VAL_SIZE) // BATCH_SIZE)).numpy())\n",
    "            print('AUC_training: ', auc.result().numpy())\n",
    "            auc.reset_states()\n",
    "\n",
    "            losses = tf.Variable(0.)\n",
    "            with strategy.scope():\n",
    "                for imgs, lbls in ds_valid_dist:\n",
    "                    losses.assign_add(validatation_dist(imgs, lbls))\n",
    "            print('loss_validation: ',(losses / (VAL_SIZE // BATCH_SIZE)).numpy())     \n",
    "            print('AUC_validation: ', auc.result().numpy())\n",
    "            if auc.result().numpy() > validation_res:\n",
    "                print('model saved!')\n",
    "                model.save_weights(f'saved_model_{seed}_{fold}.h5')\n",
    "                validation_res = auc.result().numpy()\n",
    "            if (epoch > 5) and (epoch % 4 == 0):\n",
    "                print(f'learning rate: {opt.learning_rate * 0.1}')\n",
    "                model.load_weights(f'saved_model_{seed}_{fold}.h5')\n",
    "                opt.learning_rate.assign(opt.learning_rate * 0.1)\n",
    "            auc.reset_states()\n",
    "    #         if epoch > 10:\n",
    "    #             opt.learning_rate"
   ]
  },
  {
   "cell_type": "code",
   "execution_count": 9,
   "id": "general-address",
   "metadata": {
    "execution": {
     "iopub.execute_input": "2021-06-14T09:29:18.934626Z",
     "iopub.status.busy": "2021-06-14T09:29:18.933991Z",
     "iopub.status.idle": "2021-06-14T09:29:18.937130Z",
     "shell.execute_reply": "2021-06-14T09:29:18.936593Z"
    },
    "papermill": {
     "duration": 9.066468,
     "end_time": "2021-06-14T09:29:18.937280",
     "exception": false,
     "start_time": "2021-06-14T09:29:09.870812",
     "status": "completed"
    },
    "tags": []
   },
   "outputs": [],
   "source": [
    "# train_tfrec = np.array(tf.io.gfile.glob(GCS_PATH_train_p1 + '/train_tfrec/*') + \n",
    "#                        tf.io.gfile.glob(GCS_PATH_train_p2 + '/train_tfrec/*') +\n",
    "#                        tf.io.gfile.glob(GCS_PATH_train_p3 + '/train_tfrec/*') +\n",
    "#                        tf.io.gfile.glob(GCS_PATH_train_p4 + '/train_tfrec/*'))\n",
    "# test_OOF = train_tfrec[0]\n",
    "\n",
    "# test_files = tf.io.gfile.glob(GCS_PATH_test_p1 + '/test_tfrec/*') +\\\n",
    "#              tf.io.gfile.glob(GCS_PATH_test_p2 + '/test_tfrec/*') +\\\n",
    "#              tf.io.gfile.glob(GCS_PATH_test_p3 + '/test_tfrec/*') +\\\n",
    "#              tf.io.gfile.glob(GCS_PATH_test_p4 + '/test_tfrec/*')\n",
    "\n",
    "# ds_test = tf.data.TFRecordDataset(test_files, num_parallel_reads=AUTO)\n",
    "# ds_test = ds_test.map(read_tfrec_test, num_parallel_calls=AUTO)\n",
    "# ds_test = ds_test.map(lambda img, lbl: (tf.transpose(prepare_img(img), [2, 0, 1]), lbl))\n",
    "# ds_test = ds_test.batch(BATCH_SIZE * 8).prefetch(AUTO)\n",
    "# ds_test_dist = strategy.experimental_distribute_dataset(ds_test)\n",
    "\n",
    "\n",
    "# ds_OOF = tf.data.TFRecordDataset([test_OOF], num_parallel_reads=AUTO)\n",
    "# ds_OOF = ds_OOF.map(read_tfrec, num_parallel_calls=AUTO)\n",
    "# ds_OOF = ds_OOF.map(lambda img, lbl: (tf.transpose(prepare_img(img), [2, 0, 1]), lbl))\n",
    "# ds_OOF = ds_OOF.batch(BATCH_SIZE * 8).prefetch(AUTO)\n",
    "# ds_OOF_dist = strategy.experimental_distribute_dataset(ds_OOF)\n",
    "\n",
    "# with strategy.scope():\n",
    "#     model = create_model()\n",
    "\n",
    "# def test_(imgs):\n",
    "#     return model(imgs)\n",
    "\n",
    "# @tf.function\n",
    "# def test_dist(imgs):\n",
    "#     per_rep_pred = strategy.run(test_, args=(imgs,))\n",
    "#     return per_rep_pred\n",
    "\n",
    "# for seed in range(0, 1):\n",
    "#     for fold in range(5):\n",
    "#         model.load_weights(f'../input/seti-soheil-norm/saved_model_{seed}_{fold}.h5')\n",
    "#         with strategy.scope():\n",
    "#             for i, (imgs, name) in enumerate(ds_test_dist):\n",
    "#                 if i % 5 == 0:\n",
    "#                     print(i)\n",
    "#                 _pred = tf.cast(tf.concat(test_dist(imgs).values, axis=0), tf.float32)\n",
    "#                 _name = tf.concat(name.values, axis=0)[:, None]\n",
    "#                 pred_ = _pred if i == 0 else tf.concat((pred_, _pred), axis=0)\n",
    "#                 name_ = _name if i == 0 else tf.concat((name_, _name), axis=0)\n",
    "#             all_preds = pred_ if fold == 0 else tf.concat((all_preds, pred_), axis=1)\n",
    "#             for i, (imgs, target) in enumerate(ds_OOF_dist):\n",
    "#                 if i % 5 == 0:\n",
    "#                     print(i)\n",
    "#                 _pred = tf.cast(tf.concat(test_dist(imgs).values, axis=0), tf.float32)\n",
    "#                 OOF_preds = _pred if i == 0 else tf.concat((OOF_preds, _pred), axis=0)\n",
    "#                 target_ = tf.concat(target.values, axis=0)[:, None]\n",
    "#                 target__ = target_ if i == 0 else tf.concat((target__, target_), axis=0)\n",
    "#             all_OOF_preds = OOF_preds if fold == 0 else tf.concat((all_OOF_preds, OOF_preds), axis=1)"
   ]
  },
  {
   "cell_type": "code",
   "execution_count": 10,
   "id": "quantitative-water",
   "metadata": {
    "execution": {
     "iopub.execute_input": "2021-06-14T09:29:37.242863Z",
     "iopub.status.busy": "2021-06-14T09:29:37.241617Z",
     "iopub.status.idle": "2021-06-14T09:29:37.243671Z",
     "shell.execute_reply": "2021-06-14T09:29:37.244185Z"
    },
    "papermill": {
     "duration": 9.067713,
     "end_time": "2021-06-14T09:29:37.244362",
     "exception": false,
     "start_time": "2021-06-14T09:29:28.176649",
     "status": "completed"
    },
    "tags": []
   },
   "outputs": [],
   "source": [
    "# from sklearn.metrics import auc, roc_curve\n",
    "# auc_score = []\n",
    "# for i in [0, 3, 4]:\n",
    "#     fpr, tpr, thresholds = roc_curve(target__, all_OOF_preds[:, i][:, None], pos_label=1)\n",
    "#     plt.plot(fpr, tpr)\n",
    "#     plt.show()\n",
    "#     print(auc(fpr, tpr))\n",
    "#     auc_score.append(auc(fpr, tpr))"
   ]
  },
  {
   "cell_type": "code",
   "execution_count": 11,
   "id": "saved-freedom",
   "metadata": {
    "execution": {
     "iopub.execute_input": "2021-06-14T09:29:55.452759Z",
     "iopub.status.busy": "2021-06-14T09:29:55.452046Z",
     "iopub.status.idle": "2021-06-14T09:29:55.455062Z",
     "shell.execute_reply": "2021-06-14T09:29:55.454423Z"
    },
    "papermill": {
     "duration": 9.121328,
     "end_time": "2021-06-14T09:29:55.455204",
     "exception": false,
     "start_time": "2021-06-14T09:29:46.333876",
     "status": "completed"
    },
    "tags": []
   },
   "outputs": [],
   "source": [
    "# sc_ = [sc / sum(auc_score) for sc in auc_score]\n",
    "# predss = (all_preds.numpy()[:, [0, 3, 4]] * np.array(sc_) + [-0.1, 0.19, -0.09]).sum(axis=1)[:, None]\n",
    "# pred_df = pd.DataFrame(np.concatenate((name_.numpy(), predss), axis=1), columns=['id', 'target'])\n",
    "# pred_df['id'] = pred_df['id'].apply(lambda x: x.decode())\n",
    "# pred_df.sort_values('id').reset_index(drop=True).to_csv(\"sub5.csv\", index=False)"
   ]
  }
 ],
 "metadata": {
  "kernelspec": {
   "display_name": "Python 3",
   "language": "python",
   "name": "python3"
  },
  "language_info": {
   "codemirror_mode": {
    "name": "ipython",
    "version": 3
   },
   "file_extension": ".py",
   "mimetype": "text/x-python",
   "name": "python",
   "nbconvert_exporter": "python",
   "pygments_lexer": "ipython3",
   "version": "3.7.10"
  },
  "papermill": {
   "default_parameters": {},
   "duration": 12502.406971,
   "end_time": "2021-06-14T09:30:07.217229",
   "environment_variables": {},
   "exception": null,
   "input_path": "__notebook__.ipynb",
   "output_path": "__notebook__.ipynb",
   "parameters": {},
   "start_time": "2021-06-14T06:01:44.810258",
   "version": "2.3.3"
  }
 },
 "nbformat": 4,
 "nbformat_minor": 5
}
